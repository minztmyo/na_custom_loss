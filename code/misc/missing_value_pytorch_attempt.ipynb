{
 "cells": [
  {
   "cell_type": "code",
   "execution_count": 3,
   "id": "81c82c13",
   "metadata": {
    "scrolled": true
   },
   "outputs": [],
   "source": [
    "import pandas as pd\n",
    "import numpy as np\n",
    "\n",
    "from sklearn.model_selection import train_test_split\n",
    "from sklearn.preprocessing import StandardScaler\n",
    "from sklearn.preprocessing import LabelEncoder\n"
   ]
  },
  {
   "cell_type": "code",
   "execution_count": 18,
   "id": "0bc77c82",
   "metadata": {},
   "outputs": [],
   "source": [
    "df = pd.read_csv('../data/singe_cell.csv',  index_col=0)"
   ]
  },
  {
   "cell_type": "code",
   "execution_count": 19,
   "id": "653f72de",
   "metadata": {},
   "outputs": [],
   "source": [
    "y = np.array(df['group'])\n",
    "encoder = LabelEncoder()\n",
    "encoder.fit(y)\n",
    "encoded_Y = encoder.transform(y)\n"
   ]
  },
  {
   "cell_type": "code",
   "execution_count": 8,
   "id": "9c737596",
   "metadata": {},
   "outputs": [],
   "source": [
    "def to_one_hot(labels, num_classes):\n",
    "    one_hot = np.zeros((len(labels), num_classes))\n",
    "    one_hot[np.arange(len(labels)), labels] = 1\n",
    "    return one_hot"
   ]
  },
  {
   "cell_type": "code",
   "execution_count": 20,
   "id": "af03c2b5",
   "metadata": {},
   "outputs": [],
   "source": [
    "dummy_y = encoded_Y\n",
    "X = df.drop(['group'], axis = 1)\n",
    "scaler = StandardScaler()\n",
    "X = scaler.fit_transform(X)\n",
    "x_train , x_test , y_train , y_test =train_test_split(X,\n",
    "                            dummy_y,test_size =0.2, random_state=105)"
   ]
  },
  {
   "cell_type": "code",
   "execution_count": 26,
   "id": "f1d926be",
   "metadata": {},
   "outputs": [
    {
     "name": "stdout",
     "output_type": "stream",
     "text": [
      "Epoch [1/10], Loss: nan\n",
      "Epoch [2/10], Loss: nan\n",
      "Epoch [3/10], Loss: nan\n",
      "Epoch [4/10], Loss: nan\n",
      "Epoch [5/10], Loss: nan\n",
      "Epoch [6/10], Loss: nan\n",
      "Epoch [7/10], Loss: nan\n",
      "Epoch [8/10], Loss: nan\n",
      "Epoch [9/10], Loss: nan\n",
      "Epoch [10/10], Loss: nan\n"
     ]
    }
   ],
   "source": [
    "import torch\n",
    "import torch.nn as nn\n",
    "\n",
    "# Define the model architecture\n",
    "class SimpleClassifier(nn.Module):\n",
    "    def __init__(self, input_size, hidden_size, num_classes):\n",
    "        super(SimpleClassifier, self).__init__()\n",
    "        self.fc1 = nn.Linear(input_size, hidden_size)\n",
    "        self.relu = nn.ReLU()\n",
    "        self.fc2 = nn.Linear(hidden_size, num_classes)\n",
    "\n",
    "    def forward(self, x):\n",
    "        # Create a mask to ignore NaN values\n",
    "        mask = torch.logical_not(torch.isnan(x))\n",
    "        mask = mask.type(torch.float32)\n",
    "\n",
    "        # Compute the forward pass on non-NaN values only\n",
    "        out = x * mask\n",
    "        out = self.fc1(out)\n",
    "        out = self.relu(out)\n",
    "        out = out * mask\n",
    "        out = self.fc2(out)\n",
    "        return out\n",
    "\n",
    "# Define the input size, hidden size, and number of classes\n",
    "input_size = 199\n",
    "hidden_size = 199\n",
    "num_classes = 4\n",
    "\n",
    "# Create an instance of the model\n",
    "model = SimpleClassifier(input_size, hidden_size, num_classes)\n",
    "\n",
    "# Define the loss function and optimizer\n",
    "criterion = nn.CrossEntropyLoss()\n",
    "optimizer = torch.optim.Adam(model.parameters(), lr=0.001)\n",
    "\n",
    "\n",
    "# Train the model\n",
    "num_epochs = 10\n",
    "for epoch in range(num_epochs):\n",
    "    # Load a batch of data\n",
    "    inputs, labels = x_train, y_train # Load a batch of input and label data\n",
    "    # Convert to PyTorch tensors\n",
    "    inputs = torch.from_numpy(inputs).float()\n",
    "    labels = torch.from_numpy(labels).long()\n",
    "    # Forward pass\n",
    "    outputs = model(inputs)\n",
    "    loss = criterion(outputs, labels)\n",
    "    # Backward and optimize\n",
    "    optimizer.zero_grad()\n",
    "    loss.backward()\n",
    "    optimizer.step()\n",
    "    # Print loss\n",
    "    print('Epoch [{}/{}], Loss: {:.4f}'.format(epoch+1, num_epochs, loss.item()))\n"
   ]
  },
  {
   "cell_type": "code",
   "execution_count": 17,
   "id": "8e8e99f0",
   "metadata": {
    "scrolled": true
   },
   "outputs": [
    {
     "data": {
      "text/plain": [
       "tensor([1, 2, 1, 1, 0, 0, 0, 2, 0, 1, 0, 2, 3, 2, 3, 0, 0, 3, 0, 1, 0, 0, 1, 2,\n",
       "        0, 2, 1, 2, 3, 1, 0, 1, 0, 1, 1, 0, 3, 3, 1, 1, 0, 0, 3, 3, 1, 3, 1, 2,\n",
       "        2, 0, 3, 3, 0, 0, 3, 1, 3, 1, 3, 2, 3, 1, 0, 2, 3, 0, 0, 0, 1, 2, 1, 1,\n",
       "        1, 1, 3, 1, 1, 2, 2, 1, 3, 1, 2, 3, 1, 2, 0, 3, 2, 2, 0, 0, 1, 1, 2, 3,\n",
       "        2, 1, 3, 0, 3, 2, 2, 1, 1, 0, 3, 2, 0, 2, 2, 3, 0, 1, 2, 1, 1, 2, 0, 1,\n",
       "        2, 3, 0, 3, 3, 0, 3, 3, 0, 2, 3, 1, 3, 0, 3, 3, 1, 0, 1, 1, 2, 1, 0, 1,\n",
       "        3, 3, 3, 3, 2, 0, 0, 2, 2, 1, 2, 2, 3, 0, 0, 1, 2, 2, 0, 1, 1, 3, 3, 3,\n",
       "        2, 1, 2, 3, 3, 0, 3, 2, 1, 0, 2, 3, 3, 1, 0, 0, 0, 3, 1, 0, 2, 3, 0, 1,\n",
       "        1, 0, 3, 3, 0, 0, 0, 2, 2, 0, 1, 2, 1, 3, 0, 0, 1, 3, 0, 1, 2, 2, 1, 3,\n",
       "        0, 1, 2, 1, 3, 2, 2, 3, 2, 2, 3, 2, 2, 0, 3, 0, 2, 2, 2, 3, 3, 0, 3, 0,\n",
       "        2, 1, 1, 2, 2, 2, 3, 0, 2, 2, 0, 1, 1, 2, 0, 0, 0, 1, 2, 3, 3, 0, 2, 3,\n",
       "        3, 2, 0, 2, 1, 3, 3, 0, 3, 3, 3, 2, 1, 2, 3, 2, 3, 1, 0, 0, 1, 3, 1, 3,\n",
       "        0, 2, 0, 3, 1, 0, 2, 0, 1, 1, 1, 0, 1, 1, 1, 2, 1, 0, 3, 1, 0, 3, 1, 2,\n",
       "        1, 0, 1, 1, 1, 2, 0, 2, 1, 3, 2, 1, 3, 3, 0, 3, 2, 2, 3, 3, 1, 1, 2, 0,\n",
       "        1, 0, 0, 1, 3, 1, 1, 0, 1, 2, 2, 2, 2, 1, 2, 3, 0, 0, 3, 2, 2, 0, 2, 0,\n",
       "        3, 1, 1, 1, 3, 0, 3, 1, 1, 0, 0, 0, 0, 2, 1, 3, 1, 0, 3, 2, 2, 2, 3, 3,\n",
       "        0, 1, 1, 1, 0, 2, 0, 2, 3, 0, 1, 0, 1, 2, 3, 3, 0, 1, 1, 2, 0, 0, 1, 3,\n",
       "        0, 3, 2, 0, 2, 1, 2, 0, 2, 2, 1, 1, 0, 0, 1, 0, 3, 3, 3, 2, 2, 2, 0, 1,\n",
       "        1, 0, 1, 3, 2, 1, 1, 0, 1, 0, 1, 0, 2, 0, 1, 2, 0, 1, 1, 0, 2, 2, 1, 1,\n",
       "        1, 0, 1, 1, 3, 2, 1, 2, 2, 0, 3, 1, 2, 2, 2, 1, 2, 0, 0, 2, 2, 3, 0, 2,\n",
       "        1, 2, 0, 3, 0, 0, 0, 0, 3, 3, 2, 0, 1, 1, 1, 3, 3, 1, 0, 0, 3, 3, 3, 2,\n",
       "        2, 2, 1, 3, 3, 1, 1, 2, 3, 1, 2, 0, 0, 2, 1, 1, 1, 2, 2, 0, 2, 2, 2, 1,\n",
       "        0, 1, 1, 2, 2, 1, 2, 0, 3, 1, 2, 3, 2, 2, 1, 3, 3, 2, 2, 0, 0, 1, 1, 0,\n",
       "        2, 3, 0, 3, 3, 1, 1, 3, 2, 3, 3, 1, 2, 3, 1, 0, 2, 2, 3, 3, 1, 1, 2, 2,\n",
       "        2, 0, 3, 2, 2, 2, 0, 1, 2, 0, 2, 1, 1, 2, 0, 2, 1, 3, 0, 0, 3, 1, 1, 0,\n",
       "        3, 1, 2, 0, 2, 3, 0, 2, 3, 0, 2, 2, 2, 3, 2, 2, 3, 1, 0, 2, 0, 3, 0, 3,\n",
       "        2, 1, 2, 0, 0, 3, 1, 2, 2, 3, 0, 3, 1, 1, 2, 0, 0, 2, 0, 3, 3, 1, 0, 0,\n",
       "        3, 3, 3, 3, 3, 0, 0, 2, 1, 0, 3, 2, 3, 1, 3, 3, 0, 1, 2, 2, 2, 0, 2, 0,\n",
       "        0, 3, 1, 0, 3, 1, 0, 1, 1, 0, 0, 2, 3, 3, 3, 0, 1, 1, 0, 2, 3, 0, 2, 2,\n",
       "        1, 0, 0, 2, 1, 2, 3, 3, 3, 0, 2, 2, 3, 2, 0, 1, 1, 2, 3, 1, 0, 1, 0, 2,\n",
       "        2, 2, 0, 0, 3, 0, 1, 0, 1, 1, 1, 2, 0, 1, 1, 0, 3, 2, 0, 0, 2, 1, 3, 0,\n",
       "        2, 0, 3, 1, 3, 3, 2, 3, 2, 3, 3, 0, 1, 1, 2, 2, 2, 1, 0, 2, 1, 3, 2, 2,\n",
       "        2, 1, 2, 1, 3, 0, 1, 2, 2, 0, 1, 3, 0, 1, 3, 1, 3, 2, 1, 1, 1, 2, 2, 0,\n",
       "        1, 3, 0, 1, 1, 0, 3, 0, 2, 1, 1, 3, 3, 2, 2, 2, 0, 0, 3, 0, 3, 2, 1, 3,\n",
       "        2, 2, 0, 0, 2, 0, 3, 3, 0, 0, 0, 1, 3, 1, 3, 1, 2, 2, 2, 2, 1, 1, 2, 0,\n",
       "        0, 1, 1, 3, 2, 2, 0, 0, 3, 0, 3, 0, 3, 2, 2, 3, 0, 2, 3, 3, 2, 2, 1, 2,\n",
       "        2, 3, 2, 3, 0, 2, 0, 2, 1, 3, 0, 0, 0, 3, 1, 1, 2, 2, 3, 0, 3, 2, 2, 3,\n",
       "        2, 0, 3, 3, 0, 2, 0, 2, 3, 2, 2, 3, 3, 1, 2, 3, 1, 0, 2, 1, 1, 1, 3, 0,\n",
       "        3, 2, 2, 0, 3, 3, 2, 1, 2, 0, 1, 0, 3, 3, 1, 2, 3, 0, 1, 2, 1, 0, 3, 3,\n",
       "        3, 0, 2, 1, 1, 3, 0, 1, 2, 3, 0, 0, 2, 3, 1, 1, 3, 1, 1, 0, 0, 3, 3, 0,\n",
       "        0, 0, 3, 2, 2, 2, 3, 0, 1, 3, 0, 2, 3, 2, 2, 2, 0, 0, 1, 1, 0, 2, 2, 1,\n",
       "        0, 3, 0, 3, 3, 0, 0, 2, 2, 1, 0, 3, 0, 0, 3, 2])"
      ]
     },
     "execution_count": 17,
     "metadata": {},
     "output_type": "execute_result"
    }
   ],
   "source": [
    "labels"
   ]
  }
 ],
 "metadata": {
  "kernelspec": {
   "display_name": "Python 3 (ipykernel)",
   "language": "python",
   "name": "python3"
  },
  "language_info": {
   "codemirror_mode": {
    "name": "ipython",
    "version": 3
   },
   "file_extension": ".py",
   "mimetype": "text/x-python",
   "name": "python",
   "nbconvert_exporter": "python",
   "pygments_lexer": "ipython3",
   "version": "3.10.8"
  }
 },
 "nbformat": 4,
 "nbformat_minor": 5
}
