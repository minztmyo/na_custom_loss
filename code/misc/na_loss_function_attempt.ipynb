{
 "cells": [
  {
   "cell_type": "code",
   "execution_count": 1,
   "id": "bb47f6ed",
   "metadata": {},
   "outputs": [],
   "source": [
    "import pandas as pd\n",
    "import numpy as np\n",
    "\n",
    "from sklearn.model_selection import train_test_split\n",
    "from sklearn.preprocessing import StandardScaler\n",
    "from sklearn.preprocessing import LabelEncoder\n",
    "\n",
    "from tensorflow.keras.models import Sequential\n",
    "from tensorflow.keras.layers import Dense\n",
    "import tensorflow as tf\n",
    "from tensorflow import keras\n",
    "\n",
    "from keras.utils import np_utils\n",
    "import keras.backend as K"
   ]
  },
  {
   "cell_type": "code",
   "execution_count": 41,
   "id": "86308641",
   "metadata": {},
   "outputs": [],
   "source": [
    "#df = pd.read_csv('../data/singe_cell.csv',  index_col=0)\n",
    "df = pd.read_csv('../data/original.csv',  index_col=0)"
   ]
  },
  {
   "cell_type": "code",
   "execution_count": 42,
   "id": "8a662684",
   "metadata": {},
   "outputs": [],
   "source": [
    "y = np.array(df['group'])"
   ]
  },
  {
   "cell_type": "code",
   "execution_count": 43,
   "id": "84f56b55",
   "metadata": {},
   "outputs": [],
   "source": [
    "encoder = LabelEncoder()\n",
    "encoder.fit(y)\n",
    "encoded_Y = encoder.transform(y)\n",
    "dummy_y = np_utils.to_categorical(encoded_Y)"
   ]
  },
  {
   "cell_type": "code",
   "execution_count": 64,
   "id": "da68a449",
   "metadata": {},
   "outputs": [],
   "source": [
    "X = df.drop(['group'], axis = 1)\n",
    "scaler = StandardScaler()\n",
    "X = scaler.fit_transform(X)"
   ]
  },
  {
   "cell_type": "code",
   "execution_count": 58,
   "id": "02fa1c41",
   "metadata": {},
   "outputs": [],
   "source": []
  },
  {
   "cell_type": "code",
   "execution_count": 65,
   "id": "42c9fc1a",
   "metadata": {},
   "outputs": [],
   "source": [
    "x_train , x_test , y_train , y_test =train_test_split(X,\n",
    "                            dummy_y,test_size =0.2, random_state=105)"
   ]
  },
  {
   "cell_type": "code",
   "execution_count": 66,
   "id": "d7d39534",
   "metadata": {
    "scrolled": true
   },
   "outputs": [],
   "source": [
    "import keras.backend as K\n",
    "\n",
    "def relu_nan(x):\n",
    "    return K.relu(x, max_value=None) * K.cast(K.not_equal(x, K.constant(float('nan'))), K.floatx())\n"
   ]
  },
  {
   "cell_type": "code",
   "execution_count": null,
   "id": "8b00d810",
   "metadata": {},
   "outputs": [],
   "source": [
    "latent_space = 2\n",
    "\n",
    "input_layer = keras.Input(shape = (199,))\n",
    "encoded = layers.Dense(128, activation='relu')(input_layer)\n",
    "encoded = layers.Dense(64, activation='relu')(encoded)\n",
    "encoded = layers.Dense(latent_space, activation='relu')(encoded)\n",
    "\n",
    "decoded = layers.Dense(64, activation='relu')(encoded)\n",
    "decoded = layers.Dense(128, activation='relu')(encoded)\n",
    "decoded = layers.Dense(199, activation='linear')(decoded)"
   ]
  },
  {
   "cell_type": "code",
   "execution_count": null,
   "id": "df299f6f",
   "metadata": {},
   "outputs": [],
   "source": [
    "encoder = keras.Model(input_layer, encoded)\n",
    "autoencoder = keras.Model(input_layer, decoded)\n",
    "autoencoder.compile(optimizer='adam', loss='mse')\n",
    "\n",
    "autoencoder.fit(X, X,\n",
    "                epochs=100,\n",
    "                batch_size=32,\n",
    "                validation_split = 0.1)"
   ]
  },
  {
   "cell_type": "code",
   "execution_count": 67,
   "id": "21efe918",
   "metadata": {},
   "outputs": [],
   "source": [
    "model = Sequential()\n",
    "#model.add(tf.keras.layers.Masking(mask_value=0., input_dim = 199))\n",
    "model.add(Dense(units=128, activation= relu_nan, input_dim = 199)) # add layers to neural network\n",
    "model.add(Dense(units=64, activation='relu'))\n",
    "model.add(Dense(units=4, activation='softmax'))\n",
    "model.compile(loss=\"categorical_crossentropy\",\n",
    "              optimizer= \"adam\")"
   ]
  },
  {
   "cell_type": "code",
   "execution_count": 68,
   "id": "9c212e58",
   "metadata": {
    "scrolled": true
   },
   "outputs": [
    {
     "name": "stdout",
     "output_type": "stream",
     "text": [
      "Epoch 1/50\n",
      "80/80 [==============================] - 0s 714us/step - loss: nan\n",
      "Epoch 2/50\n",
      "80/80 [==============================] - 0s 616us/step - loss: nan\n",
      "Epoch 3/50\n",
      "80/80 [==============================] - 0s 601us/step - loss: nan\n",
      "Epoch 4/50\n",
      "80/80 [==============================] - 0s 611us/step - loss: nan\n",
      "Epoch 5/50\n",
      "80/80 [==============================] - 0s 608us/step - loss: nan\n",
      "Epoch 6/50\n",
      "80/80 [==============================] - 0s 609us/step - loss: nan\n",
      "Epoch 7/50\n",
      "80/80 [==============================] - 0s 617us/step - loss: nan\n",
      "Epoch 8/50\n",
      "80/80 [==============================] - 0s 603us/step - loss: nan\n",
      "Epoch 9/50\n",
      "80/80 [==============================] - 0s 607us/step - loss: nan\n",
      "Epoch 10/50\n",
      "80/80 [==============================] - 0s 620us/step - loss: nan\n",
      "Epoch 11/50\n",
      "80/80 [==============================] - 0s 649us/step - loss: nan\n",
      "Epoch 12/50\n",
      "80/80 [==============================] - 0s 648us/step - loss: nan\n",
      "Epoch 13/50\n",
      "80/80 [==============================] - 0s 633us/step - loss: nan\n",
      "Epoch 14/50\n",
      "80/80 [==============================] - 0s 622us/step - loss: nan\n",
      "Epoch 15/50\n",
      "80/80 [==============================] - 0s 644us/step - loss: nan\n",
      "Epoch 16/50\n",
      "80/80 [==============================] - 0s 611us/step - loss: nan\n",
      "Epoch 17/50\n",
      "80/80 [==============================] - 0s 602us/step - loss: nan\n",
      "Epoch 18/50\n",
      "80/80 [==============================] - 0s 598us/step - loss: nan\n",
      "Epoch 19/50\n",
      "80/80 [==============================] - 0s 602us/step - loss: nan\n",
      "Epoch 20/50\n",
      "80/80 [==============================] - 0s 605us/step - loss: nan\n",
      "Epoch 21/50\n",
      "80/80 [==============================] - 0s 598us/step - loss: nan\n",
      "Epoch 22/50\n",
      "80/80 [==============================] - 0s 603us/step - loss: nan\n",
      "Epoch 23/50\n",
      "80/80 [==============================] - 0s 610us/step - loss: nan\n",
      "Epoch 24/50\n",
      "80/80 [==============================] - 0s 593us/step - loss: nan\n",
      "Epoch 25/50\n",
      "80/80 [==============================] - 0s 595us/step - loss: nan\n",
      "Epoch 26/50\n",
      "80/80 [==============================] - 0s 592us/step - loss: nan\n",
      "Epoch 27/50\n",
      "80/80 [==============================] - 0s 601us/step - loss: nan\n",
      "Epoch 28/50\n",
      "80/80 [==============================] - 0s 601us/step - loss: nan\n",
      "Epoch 29/50\n",
      "80/80 [==============================] - 0s 600us/step - loss: nan\n",
      "Epoch 30/50\n",
      "80/80 [==============================] - 0s 594us/step - loss: nan\n",
      "Epoch 31/50\n",
      "80/80 [==============================] - 0s 590us/step - loss: nan\n",
      "Epoch 32/50\n",
      "80/80 [==============================] - 0s 600us/step - loss: nan\n",
      "Epoch 33/50\n",
      "80/80 [==============================] - 0s 600us/step - loss: nan\n",
      "Epoch 34/50\n",
      "80/80 [==============================] - 0s 585us/step - loss: nan\n",
      "Epoch 35/50\n",
      "80/80 [==============================] - 0s 599us/step - loss: nan\n",
      "Epoch 36/50\n",
      "80/80 [==============================] - 0s 596us/step - loss: nan\n",
      "Epoch 37/50\n",
      "80/80 [==============================] - 0s 600us/step - loss: nan\n",
      "Epoch 38/50\n",
      "80/80 [==============================] - 0s 604us/step - loss: nan\n",
      "Epoch 39/50\n",
      "80/80 [==============================] - 0s 606us/step - loss: nan\n",
      "Epoch 40/50\n",
      "80/80 [==============================] - 0s 604us/step - loss: nan\n",
      "Epoch 41/50\n",
      "80/80 [==============================] - 0s 591us/step - loss: nan\n",
      "Epoch 42/50\n",
      "80/80 [==============================] - 0s 616us/step - loss: nan\n",
      "Epoch 43/50\n",
      "80/80 [==============================] - 0s 628us/step - loss: nan\n",
      "Epoch 44/50\n",
      "80/80 [==============================] - 0s 631us/step - loss: nan\n",
      "Epoch 45/50\n",
      "80/80 [==============================] - 0s 611us/step - loss: nan\n",
      "Epoch 46/50\n",
      "80/80 [==============================] - 0s 627us/step - loss: nan\n",
      "Epoch 47/50\n",
      "80/80 [==============================] - 0s 619us/step - loss: nan\n",
      "Epoch 48/50\n",
      "80/80 [==============================] - 0s 600us/step - loss: nan\n",
      "Epoch 49/50\n",
      "80/80 [==============================] - 0s 613us/step - loss: nan\n",
      "Epoch 50/50\n",
      "80/80 [==============================] - 0s 609us/step - loss: nan\n"
     ]
    },
    {
     "data": {
      "text/plain": [
       "<keras.callbacks.History at 0x7fbacafbeb90>"
      ]
     },
     "execution_count": 68,
     "metadata": {},
     "output_type": "execute_result"
    }
   ],
   "source": [
    "model.fit(x=x_train,\n",
    "        y=y_train,\n",
    "        epochs=50,\n",
    "        batch_size = 1\n",
    "        )"
   ]
  },
  {
   "cell_type": "code",
   "execution_count": 35,
   "id": "71ded1dd",
   "metadata": {},
   "outputs": [],
   "source": [
    "def na_custom_loss(y_true, y_pred):\n",
    "    y_true_mask = tf.where(tf.math.is_nan(y_true), tf.zeros_like(y_true), y_true)\n",
    "    return K.categorical_crossentropy(y_pred, y_true_mask)"
   ]
  },
  {
   "cell_type": "code",
   "execution_count": 66,
   "id": "e0c2334c",
   "metadata": {},
   "outputs": [],
   "source": [
    "y_true = tf.constant([\n",
    "    [0.1, 1, np.nan, 0.5],\n",
    "    [0.4, 0.2, 0.8, 0],\n",
    "    [np.nan, 1.3, np.nan, 0.2],\n",
    "    [0.1, 0.1, 0.6, np.nan],\n",
    "])\n",
    "\n",
    "y_pred = tf.constant([\n",
    "    [0.7, 0.7, 0.1, 0.3],\n",
    "    [0.6, 0.1, 0.1, 0],\n",
    "    [0.4, 0.9, 0.9, 0.2],\n",
    "    [0.1, 0.4, 0.4, 1.2],\n",
    "])\n",
    "\n",
    "#loss = na_custom_loss(y_true, y_pred)\n"
   ]
  },
  {
   "cell_type": "code",
   "execution_count": 67,
   "id": "75834c93",
   "metadata": {
    "scrolled": true
   },
   "outputs": [
    {
     "data": {
      "text/plain": [
       "<tf.Tensor: shape=(4, 4), dtype=float32, numpy=\n",
       "array([[0.1, 1. , 0. , 0.5],\n",
       "       [0.4, 0.2, 0.8, 0. ],\n",
       "       [0. , 1.3, 0. , 0.2],\n",
       "       [0.1, 0.1, 0.6, 0. ]], dtype=float32)>"
      ]
     },
     "execution_count": 67,
     "metadata": {},
     "output_type": "execute_result"
    }
   ],
   "source": [
    "tf.where(tf.math.is_nan(y_true), tf.zeros_like(y_true), y_true)"
   ]
  },
  {
   "cell_type": "code",
   "execution_count": null,
   "id": "80c3f09f",
   "metadata": {},
   "outputs": [],
   "source": [
    "X =  np.nan_to_num(X, nan = 9999)"
   ]
  },
  {
   "cell_type": "code",
   "execution_count": 43,
   "id": "66fd2b2d",
   "metadata": {},
   "outputs": [
    {
     "data": {
      "text/plain": [
       "<tf.Tensor: shape=(4,), dtype=float32, numpy=array([2.1488113 , 0.58849764, 2.979178  , 2.3025734 ], dtype=float32)>"
      ]
     },
     "execution_count": 43,
     "metadata": {},
     "output_type": "execute_result"
    }
   ],
   "source": [
    "na_custom_loss(y_pred, y_pred) # loook more into it. "
   ]
  },
  {
   "cell_type": "code",
   "execution_count": 37,
   "id": "2a276fe6",
   "metadata": {
    "scrolled": true
   },
   "outputs": [
    {
     "ename": "NameError",
     "evalue": "name 'na_custom_loss' is not defined",
     "output_type": "error",
     "traceback": [
      "\u001b[0;31m---------------------------------------------------------------------------\u001b[0m",
      "\u001b[0;31mNameError\u001b[0m                                 Traceback (most recent call last)",
      "Cell \u001b[0;32mIn[37], line 1\u001b[0m\n\u001b[0;32m----> 1\u001b[0m model\u001b[38;5;241m.\u001b[39mcompile(loss \u001b[38;5;241m=\u001b[39m \u001b[43mna_custom_loss\u001b[49m,\n\u001b[1;32m      2\u001b[0m               optimizer\u001b[38;5;241m=\u001b[39m \u001b[38;5;124m\"\u001b[39m\u001b[38;5;124madam\u001b[39m\u001b[38;5;124m\"\u001b[39m)\n\u001b[1;32m      4\u001b[0m model\u001b[38;5;241m.\u001b[39mfit(x\u001b[38;5;241m=\u001b[39mx_train,\n\u001b[1;32m      5\u001b[0m         y\u001b[38;5;241m=\u001b[39my_train,\n\u001b[1;32m      6\u001b[0m         epochs\u001b[38;5;241m=\u001b[39m\u001b[38;5;241m50\u001b[39m,\n\u001b[1;32m      7\u001b[0m         validation_split \u001b[38;5;241m=\u001b[39m \u001b[38;5;241m0.2\u001b[39m\n\u001b[1;32m      8\u001b[0m         )\n",
      "\u001b[0;31mNameError\u001b[0m: name 'na_custom_loss' is not defined"
     ]
    }
   ],
   "source": [
    "model.compile(loss = na_custom_loss,\n",
    "              optimizer= \"adam\")\n",
    "\n",
    "model.fit(x=x_train,\n",
    "        y=y_train,\n",
    "        epochs=50,\n",
    "        validation_split = 0.2\n",
    "        )"
   ]
  },
  {
   "cell_type": "code",
   "execution_count": 38,
   "id": "23c4b519",
   "metadata": {},
   "outputs": [
    {
     "name": "stdout",
     "output_type": "stream",
     "text": [
      "Model: \"sequential_5\"\n",
      "_________________________________________________________________\n",
      " Layer (type)                Output Shape              Param #   \n",
      "=================================================================\n",
      " masking_3 (Masking)         (None, 199)               0         \n",
      "                                                                 \n",
      " dense_15 (Dense)            (None, 128)               25600     \n",
      "                                                                 \n",
      " dropout_3 (Dropout)         (None, 128)               0         \n",
      "                                                                 \n",
      " dense_16 (Dense)            (None, 64)                8256      \n",
      "                                                                 \n",
      " dense_17 (Dense)            (None, 4)                 260       \n",
      "                                                                 \n",
      "=================================================================\n",
      "Total params: 34,116\n",
      "Trainable params: 34,116\n",
      "Non-trainable params: 0\n",
      "_________________________________________________________________\n",
      "Epoch 1/50\n",
      "2/2 [==============================] - 0s 124ms/step - loss: 3444.3633 - accuracy: 0.1875 - val_loss: 3407.9580 - val_accuracy: 0.0000e+00\n",
      "Epoch 2/50\n",
      "2/2 [==============================] - 0s 15ms/step - loss: 2465.1514 - accuracy: 0.2656 - val_loss: 3286.9216 - val_accuracy: 0.0625\n",
      "Epoch 3/50\n",
      "2/2 [==============================] - 0s 15ms/step - loss: 1959.2615 - accuracy: 0.3594 - val_loss: 3293.7637 - val_accuracy: 0.1250\n",
      "Epoch 4/50\n",
      "2/2 [==============================] - 0s 14ms/step - loss: 1535.0564 - accuracy: 0.4219 - val_loss: 3048.5747 - val_accuracy: 0.1250\n",
      "Epoch 5/50\n",
      "2/2 [==============================] - 0s 14ms/step - loss: 866.5700 - accuracy: 0.5781 - val_loss: 2833.3525 - val_accuracy: 0.1250\n",
      "Epoch 6/50\n",
      "2/2 [==============================] - 0s 15ms/step - loss: 702.9973 - accuracy: 0.6719 - val_loss: 2769.2244 - val_accuracy: 0.1250\n",
      "Epoch 7/50\n",
      "2/2 [==============================] - 0s 14ms/step - loss: 687.8148 - accuracy: 0.6875 - val_loss: 2926.6445 - val_accuracy: 0.1875\n",
      "Epoch 8/50\n",
      "2/2 [==============================] - 0s 15ms/step - loss: 222.2755 - accuracy: 0.8281 - val_loss: 3071.1528 - val_accuracy: 0.1875\n",
      "Epoch 9/50\n",
      "2/2 [==============================] - 0s 15ms/step - loss: 199.1698 - accuracy: 0.8594 - val_loss: 3234.7227 - val_accuracy: 0.1875\n",
      "Epoch 10/50\n",
      "2/2 [==============================] - 0s 15ms/step - loss: 149.4589 - accuracy: 0.8750 - val_loss: 3298.9453 - val_accuracy: 0.1875\n",
      "Epoch 11/50\n",
      "2/2 [==============================] - 0s 15ms/step - loss: 76.6671 - accuracy: 0.9219 - val_loss: 3311.3042 - val_accuracy: 0.1875\n",
      "Epoch 12/50\n",
      "2/2 [==============================] - 0s 16ms/step - loss: 201.9740 - accuracy: 0.8438 - val_loss: 3207.7532 - val_accuracy: 0.1875\n",
      "Epoch 13/50\n",
      "2/2 [==============================] - 0s 15ms/step - loss: 116.2961 - accuracy: 0.8906 - val_loss: 3036.9172 - val_accuracy: 0.2500\n",
      "Epoch 14/50\n",
      "2/2 [==============================] - 0s 14ms/step - loss: 69.0076 - accuracy: 0.9219 - val_loss: 2859.6484 - val_accuracy: 0.2500\n",
      "Epoch 15/50\n",
      "2/2 [==============================] - 0s 15ms/step - loss: 49.0627 - accuracy: 0.8906 - val_loss: 2731.2874 - val_accuracy: 0.2500\n",
      "Epoch 16/50\n",
      "2/2 [==============================] - 0s 16ms/step - loss: 109.9860 - accuracy: 0.8906 - val_loss: 2630.2322 - val_accuracy: 0.2500\n",
      "Epoch 17/50\n",
      "2/2 [==============================] - 0s 16ms/step - loss: 52.3750 - accuracy: 0.9531 - val_loss: 2566.1611 - val_accuracy: 0.2500\n",
      "Epoch 18/50\n",
      "2/2 [==============================] - 0s 16ms/step - loss: 48.7444 - accuracy: 0.9688 - val_loss: 2542.3511 - val_accuracy: 0.3125\n",
      "Epoch 19/50\n",
      "2/2 [==============================] - 0s 14ms/step - loss: 54.7250 - accuracy: 0.9375 - val_loss: 2565.5635 - val_accuracy: 0.3750\n",
      "Epoch 20/50\n",
      "2/2 [==============================] - 0s 15ms/step - loss: 6.5271 - accuracy: 0.9844 - val_loss: 2615.7217 - val_accuracy: 0.3750\n",
      "Epoch 21/50\n",
      "2/2 [==============================] - 0s 15ms/step - loss: 0.0000e+00 - accuracy: 1.0000 - val_loss: 2669.8901 - val_accuracy: 0.3750\n",
      "Epoch 22/50\n",
      "2/2 [==============================] - 0s 15ms/step - loss: 0.0000e+00 - accuracy: 1.0000 - val_loss: 2723.1184 - val_accuracy: 0.3750\n",
      "Epoch 23/50\n",
      "2/2 [==============================] - 0s 16ms/step - loss: 38.4614 - accuracy: 0.9375 - val_loss: 2731.7029 - val_accuracy: 0.3125\n",
      "Epoch 24/50\n",
      "2/2 [==============================] - 0s 15ms/step - loss: 2.2791 - accuracy: 0.9844 - val_loss: 2742.4883 - val_accuracy: 0.3125\n",
      "Epoch 25/50\n",
      "2/2 [==============================] - 0s 14ms/step - loss: 3.5086 - accuracy: 0.9844 - val_loss: 2742.0522 - val_accuracy: 0.3125\n",
      "Epoch 26/50\n",
      "2/2 [==============================] - 0s 16ms/step - loss: 0.0000e+00 - accuracy: 1.0000 - val_loss: 2742.4253 - val_accuracy: 0.3750\n",
      "Epoch 27/50\n",
      "2/2 [==============================] - 0s 16ms/step - loss: 17.6214 - accuracy: 0.9688 - val_loss: 2756.8657 - val_accuracy: 0.3750\n",
      "Epoch 28/50\n",
      "2/2 [==============================] - 0s 14ms/step - loss: 15.9677 - accuracy: 0.9531 - val_loss: 2774.2668 - val_accuracy: 0.3750\n",
      "Epoch 29/50\n",
      "2/2 [==============================] - 0s 16ms/step - loss: 3.1875 - accuracy: 0.9844 - val_loss: 2788.4009 - val_accuracy: 0.3750\n",
      "Epoch 30/50\n",
      "2/2 [==============================] - 0s 16ms/step - loss: 16.2833 - accuracy: 0.9688 - val_loss: 2788.8359 - val_accuracy: 0.3750\n",
      "Epoch 31/50\n",
      "2/2 [==============================] - 0s 14ms/step - loss: 12.1191 - accuracy: 0.9844 - val_loss: 2787.3740 - val_accuracy: 0.3750\n",
      "Epoch 32/50\n",
      "2/2 [==============================] - 0s 16ms/step - loss: 14.5658 - accuracy: 0.9688 - val_loss: 2800.3806 - val_accuracy: 0.3750\n",
      "Epoch 33/50\n",
      "2/2 [==============================] - 0s 16ms/step - loss: 0.0000e+00 - accuracy: 1.0000 - val_loss: 2813.8398 - val_accuracy: 0.3125\n",
      "Epoch 34/50\n",
      "2/2 [==============================] - 0s 15ms/step - loss: 4.7035 - accuracy: 0.9688 - val_loss: 2848.5601 - val_accuracy: 0.3125\n",
      "Epoch 35/50\n",
      "2/2 [==============================] - 0s 15ms/step - loss: 0.0000e+00 - accuracy: 1.0000 - val_loss: 2877.6804 - val_accuracy: 0.3125\n",
      "Epoch 36/50\n",
      "2/2 [==============================] - 0s 16ms/step - loss: 0.0000e+00 - accuracy: 1.0000 - val_loss: 2901.4341 - val_accuracy: 0.3125\n",
      "Epoch 37/50\n",
      "2/2 [==============================] - 0s 14ms/step - loss: 22.4188 - accuracy: 0.9844 - val_loss: 2944.0029 - val_accuracy: 0.3125\n",
      "Epoch 38/50\n",
      "2/2 [==============================] - 0s 15ms/step - loss: 10.3078 - accuracy: 0.9688 - val_loss: 2976.5325 - val_accuracy: 0.3125\n",
      "Epoch 39/50\n",
      "2/2 [==============================] - 0s 15ms/step - loss: 0.0000e+00 - accuracy: 1.0000 - val_loss: 2998.4631 - val_accuracy: 0.2500\n",
      "Epoch 40/50\n",
      "2/2 [==============================] - 0s 14ms/step - loss: 7.9626 - accuracy: 0.9844 - val_loss: 2994.3706 - val_accuracy: 0.2500\n",
      "Epoch 41/50\n",
      "2/2 [==============================] - 0s 14ms/step - loss: 0.0000e+00 - accuracy: 1.0000 - val_loss: 2970.0623 - val_accuracy: 0.2500\n",
      "Epoch 42/50\n",
      "2/2 [==============================] - 0s 16ms/step - loss: 10.7542 - accuracy: 0.9844 - val_loss: 2934.3203 - val_accuracy: 0.2500\n",
      "Epoch 43/50\n",
      "2/2 [==============================] - 0s 15ms/step - loss: 10.8387 - accuracy: 0.9844 - val_loss: 2905.2424 - val_accuracy: 0.2500\n",
      "Epoch 44/50\n",
      "2/2 [==============================] - 0s 16ms/step - loss: 0.0000e+00 - accuracy: 1.0000 - val_loss: 2881.5481 - val_accuracy: 0.2500\n",
      "Epoch 45/50\n",
      "2/2 [==============================] - 0s 16ms/step - loss: 0.0000e+00 - accuracy: 1.0000 - val_loss: 2862.1506 - val_accuracy: 0.2500\n",
      "Epoch 46/50\n",
      "2/2 [==============================] - 0s 15ms/step - loss: 0.0000e+00 - accuracy: 1.0000 - val_loss: 2846.3362 - val_accuracy: 0.2500\n",
      "Epoch 47/50\n",
      "2/2 [==============================] - 0s 15ms/step - loss: 0.0000e+00 - accuracy: 1.0000 - val_loss: 2833.0474 - val_accuracy: 0.2500\n",
      "Epoch 48/50\n",
      "2/2 [==============================] - 0s 14ms/step - loss: 0.0000e+00 - accuracy: 1.0000 - val_loss: 2822.0747 - val_accuracy: 0.2500\n",
      "Epoch 49/50\n",
      "2/2 [==============================] - 0s 15ms/step - loss: 4.8083 - accuracy: 0.9844 - val_loss: 2824.9507 - val_accuracy: 0.2500\n",
      "Epoch 50/50\n"
     ]
    },
    {
     "name": "stdout",
     "output_type": "stream",
     "text": [
      "2/2 [==============================] - 0s 16ms/step - loss: 53.1108 - accuracy: 0.9531 - val_loss: 2831.4834 - val_accuracy: 0.2500\n"
     ]
    },
    {
     "data": {
      "text/plain": [
       "<keras.callbacks.History at 0x7fbaca826230>"
      ]
     },
     "execution_count": 38,
     "metadata": {},
     "output_type": "execute_result"
    }
   ],
   "source": [
    "import numpy as np\n",
    "# Define the model architecture\n",
    "model = keras.models.Sequential([\n",
    "    # Add a masking layer to ignore NaN values\n",
    "    keras.layers.Masking(mask_value=-9999, input_shape=(199,)),\n",
    "    # Add a dense layer with ReLU activation\n",
    "    keras.layers.Dense(128, activation='relu'),\n",
    "    # Add a dropout layer to reduce overfitting\n",
    "    keras.layers.Dropout(0.2),\n",
    "    # Add another dense layer with ReLU activation\n",
    "    keras.layers.Dense(64, activation='relu'),\n",
    "    # Add a final dense layer with softmax activation for multi-class classification\n",
    "    keras.layers.Dense(4, activation='softmax')\n",
    "])\n",
    "\n",
    "# Compile the model with categorical cross-entropy loss and Adam optimizer\n",
    "model.compile(loss='categorical_crossentropy', optimizer='adam', metrics=['accuracy'])\n",
    "\n",
    "# Print the model summary\n",
    "model.summary()\n",
    "\n",
    "\n",
    "model.fit(x=x_train,\n",
    "        y=y_train,\n",
    "        epochs=50,\n",
    "        validation_split = 0.2\n",
    "        )"
   ]
  },
  {
   "cell_type": "code",
   "execution_count": 39,
   "id": "9afe030e",
   "metadata": {},
   "outputs": [
    {
     "name": "stdout",
     "output_type": "stream",
     "text": [
      "1/1 [==============================] - 0s 45ms/step\n"
     ]
    },
    {
     "data": {
      "text/plain": [
       "array([[0.0000000e+00, 0.0000000e+00, 1.0000000e+00, 0.0000000e+00],\n",
       "       [0.0000000e+00, 1.0000000e+00, 0.0000000e+00, 0.0000000e+00],\n",
       "       [0.0000000e+00, 1.0000000e+00, 2.8969705e-11, 0.0000000e+00],\n",
       "       [0.0000000e+00, 0.0000000e+00, 1.0000000e+00, 0.0000000e+00],\n",
       "       [0.0000000e+00, 0.0000000e+00, 0.0000000e+00, 1.0000000e+00],\n",
       "       [0.0000000e+00, 0.0000000e+00, 1.0000000e+00, 0.0000000e+00],\n",
       "       [0.0000000e+00, 0.0000000e+00, 1.0000000e+00, 0.0000000e+00],\n",
       "       [0.0000000e+00, 0.0000000e+00, 1.0000000e+00, 0.0000000e+00],\n",
       "       [0.0000000e+00, 0.0000000e+00, 0.0000000e+00, 1.0000000e+00],\n",
       "       [0.0000000e+00, 0.0000000e+00, 1.0000000e+00, 0.0000000e+00],\n",
       "       [0.0000000e+00, 0.0000000e+00, 1.0000000e+00, 0.0000000e+00],\n",
       "       [0.0000000e+00, 0.0000000e+00, 0.0000000e+00, 1.0000000e+00],\n",
       "       [0.0000000e+00, 0.0000000e+00, 1.0000000e+00, 0.0000000e+00],\n",
       "       [0.0000000e+00, 0.0000000e+00, 1.0000000e+00, 0.0000000e+00],\n",
       "       [0.0000000e+00, 1.0000000e+00, 0.0000000e+00, 0.0000000e+00],\n",
       "       [2.0963094e-20, 0.0000000e+00, 1.0000000e+00, 0.0000000e+00],\n",
       "       [0.0000000e+00, 0.0000000e+00, 1.0000000e+00, 0.0000000e+00],\n",
       "       [1.0000000e+00, 0.0000000e+00, 0.0000000e+00, 0.0000000e+00],\n",
       "       [0.0000000e+00, 0.0000000e+00, 1.0000000e+00, 0.0000000e+00],\n",
       "       [0.0000000e+00, 0.0000000e+00, 0.0000000e+00, 1.0000000e+00]],\n",
       "      dtype=float32)"
      ]
     },
     "execution_count": 39,
     "metadata": {},
     "output_type": "execute_result"
    }
   ],
   "source": [
    "model.predict(x_test)"
   ]
  },
  {
   "cell_type": "code",
   "execution_count": 34,
   "id": "04e28daf",
   "metadata": {},
   "outputs": [
    {
     "data": {
      "text/plain": [
       "array([[0., 0., 1., 0.],\n",
       "       [0., 0., 1., 0.],\n",
       "       [0., 1., 0., 0.],\n",
       "       [0., 0., 1., 0.],\n",
       "       [0., 0., 0., 1.],\n",
       "       [0., 0., 1., 0.],\n",
       "       [0., 0., 1., 0.],\n",
       "       [0., 0., 0., 1.],\n",
       "       [0., 0., 0., 1.],\n",
       "       [0., 0., 1., 0.],\n",
       "       [1., 0., 0., 0.],\n",
       "       [1., 0., 0., 0.],\n",
       "       [0., 0., 1., 0.],\n",
       "       [0., 0., 1., 0.],\n",
       "       [0., 0., 1., 0.],\n",
       "       [0., 1., 0., 0.],\n",
       "       [1., 0., 0., 0.],\n",
       "       [1., 0., 0., 0.],\n",
       "       [0., 0., 0., 1.],\n",
       "       [1., 0., 0., 0.]], dtype=float32)"
      ]
     },
     "execution_count": 34,
     "metadata": {},
     "output_type": "execute_result"
    }
   ],
   "source": [
    "y_test"
   ]
  }
 ],
 "metadata": {
  "kernelspec": {
   "display_name": "Python 3 (ipykernel)",
   "language": "python",
   "name": "python3"
  },
  "language_info": {
   "codemirror_mode": {
    "name": "ipython",
    "version": 3
   },
   "file_extension": ".py",
   "mimetype": "text/x-python",
   "name": "python",
   "nbconvert_exporter": "python",
   "pygments_lexer": "ipython3",
   "version": "3.10.8"
  }
 },
 "nbformat": 4,
 "nbformat_minor": 5
}
