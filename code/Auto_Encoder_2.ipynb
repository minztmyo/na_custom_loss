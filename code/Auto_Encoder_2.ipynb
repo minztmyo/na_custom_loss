{
 "cells": [
  {
   "cell_type": "code",
   "execution_count": 1,
   "id": "db1a2ebd",
   "metadata": {},
   "outputs": [],
   "source": [
    "import pandas as pd\n",
    "import numpy as np\n",
    "from sklearn.model_selection import train_test_split\n",
    "from sklearn.metrics import classification_report\n",
    "from sklearn.metrics import confusion_matrix\n",
    "from sklearn.preprocessing import StandardScaler\n",
    "from sklearn.preprocessing import LabelEncoder\n",
    "from tensorflow.keras.models import Sequential, Model\n",
    "from tensorflow.keras.layers import Dense, Input\n",
    "from tensorflow.keras.callbacks import EarlyStopping\n",
    "import tensorflow as tf\n",
    "from plotly.offline import iplot\n",
    "import cufflinks as cf\n",
    "from sklearn.cluster import KMeans\n",
    "import keras.backend as K\n",
    "from sklearn.linear_model import LogisticRegression\n",
    "from tensorflow import keras\n",
    "from keras import layers\n",
    "from keras.utils import np_utils\n",
    "import matplotlib.pyplot as plt\n"
   ]
  },
  {
   "cell_type": "code",
   "execution_count": 2,
   "id": "5964abfc",
   "metadata": {},
   "outputs": [],
   "source": [
    "X = pd.read_csv('../data/single_cell.csv')\n",
    "# X = pd.read_csv('../data/original.csv')"
   ]
  },
  {
   "cell_type": "code",
   "execution_count": 3,
   "id": "c1f5cc38",
   "metadata": {
    "scrolled": true
   },
   "outputs": [
    {
     "data": {
      "text/html": [
       "<div>\n",
       "<style scoped>\n",
       "    .dataframe tbody tr th:only-of-type {\n",
       "        vertical-align: middle;\n",
       "    }\n",
       "\n",
       "    .dataframe tbody tr th {\n",
       "        vertical-align: top;\n",
       "    }\n",
       "\n",
       "    .dataframe thead th {\n",
       "        text-align: right;\n",
       "    }\n",
       "</style>\n",
       "<table border=\"1\" class=\"dataframe\">\n",
       "  <thead>\n",
       "    <tr style=\"text-align: right;\">\n",
       "      <th></th>\n",
       "      <th>Unnamed: 0</th>\n",
       "      <th>Gene1</th>\n",
       "      <th>Gene2</th>\n",
       "      <th>Gene3</th>\n",
       "      <th>Gene4</th>\n",
       "      <th>Gene5</th>\n",
       "      <th>Gene6</th>\n",
       "      <th>Gene7</th>\n",
       "      <th>Gene8</th>\n",
       "      <th>Gene9</th>\n",
       "      <th>...</th>\n",
       "      <th>Gene192</th>\n",
       "      <th>Gene193</th>\n",
       "      <th>Gene194</th>\n",
       "      <th>Gene195</th>\n",
       "      <th>Gene196</th>\n",
       "      <th>Gene197</th>\n",
       "      <th>Gene198</th>\n",
       "      <th>Gene199</th>\n",
       "      <th>Gene200</th>\n",
       "      <th>group</th>\n",
       "    </tr>\n",
       "  </thead>\n",
       "  <tbody>\n",
       "    <tr>\n",
       "      <th>0</th>\n",
       "      <td>Cell1</td>\n",
       "      <td>5.992481</td>\n",
       "      <td>8.637750</td>\n",
       "      <td>9.148508</td>\n",
       "      <td>0.000000</td>\n",
       "      <td>9.749526</td>\n",
       "      <td>NaN</td>\n",
       "      <td>0.000000</td>\n",
       "      <td>4.704148</td>\n",
       "      <td>11.965938</td>\n",
       "      <td>...</td>\n",
       "      <td>1.172069</td>\n",
       "      <td>2.861306</td>\n",
       "      <td>5.676206</td>\n",
       "      <td>7.064524</td>\n",
       "      <td>5.963797</td>\n",
       "      <td>6.387515</td>\n",
       "      <td>5.404645</td>\n",
       "      <td>5.811143</td>\n",
       "      <td>2.250973</td>\n",
       "      <td>Group1</td>\n",
       "    </tr>\n",
       "    <tr>\n",
       "      <th>1</th>\n",
       "      <td>Cell2</td>\n",
       "      <td>6.705927</td>\n",
       "      <td>8.459997</td>\n",
       "      <td>NaN</td>\n",
       "      <td>0.000000</td>\n",
       "      <td>9.613102</td>\n",
       "      <td>8.837886</td>\n",
       "      <td>NaN</td>\n",
       "      <td>4.354085</td>\n",
       "      <td>11.835529</td>\n",
       "      <td>...</td>\n",
       "      <td>0.000000</td>\n",
       "      <td>NaN</td>\n",
       "      <td>NaN</td>\n",
       "      <td>NaN</td>\n",
       "      <td>6.281317</td>\n",
       "      <td>6.541257</td>\n",
       "      <td>5.940163</td>\n",
       "      <td>5.120309</td>\n",
       "      <td>1.607604</td>\n",
       "      <td>Group4</td>\n",
       "    </tr>\n",
       "    <tr>\n",
       "      <th>2</th>\n",
       "      <td>Cell3</td>\n",
       "      <td>7.630381</td>\n",
       "      <td>NaN</td>\n",
       "      <td>NaN</td>\n",
       "      <td>0.000000</td>\n",
       "      <td>9.486118</td>\n",
       "      <td>8.731500</td>\n",
       "      <td>NaN</td>\n",
       "      <td>NaN</td>\n",
       "      <td>12.026917</td>\n",
       "      <td>...</td>\n",
       "      <td>0.000000</td>\n",
       "      <td>2.729572</td>\n",
       "      <td>NaN</td>\n",
       "      <td>8.092617</td>\n",
       "      <td>6.048260</td>\n",
       "      <td>6.878665</td>\n",
       "      <td>5.550450</td>\n",
       "      <td>5.957771</td>\n",
       "      <td>2.729572</td>\n",
       "      <td>Group4</td>\n",
       "    </tr>\n",
       "    <tr>\n",
       "      <th>3</th>\n",
       "      <td>Cell4</td>\n",
       "      <td>7.067631</td>\n",
       "      <td>8.952405</td>\n",
       "      <td>9.636137</td>\n",
       "      <td>2.034341</td>\n",
       "      <td>9.719746</td>\n",
       "      <td>7.529173</td>\n",
       "      <td>0.000000</td>\n",
       "      <td>NaN</td>\n",
       "      <td>12.129077</td>\n",
       "      <td>...</td>\n",
       "      <td>3.039986</td>\n",
       "      <td>2.623069</td>\n",
       "      <td>5.877711</td>\n",
       "      <td>7.349105</td>\n",
       "      <td>NaN</td>\n",
       "      <td>6.471351</td>\n",
       "      <td>6.568682</td>\n",
       "      <td>5.877711</td>\n",
       "      <td>2.846535</td>\n",
       "      <td>Group3</td>\n",
       "    </tr>\n",
       "    <tr>\n",
       "      <th>4</th>\n",
       "      <td>Cell5</td>\n",
       "      <td>5.732078</td>\n",
       "      <td>8.842180</td>\n",
       "      <td>NaN</td>\n",
       "      <td>2.192864</td>\n",
       "      <td>10.138186</td>\n",
       "      <td>7.676739</td>\n",
       "      <td>0.777724</td>\n",
       "      <td>4.987332</td>\n",
       "      <td>12.140196</td>\n",
       "      <td>...</td>\n",
       "      <td>NaN</td>\n",
       "      <td>NaN</td>\n",
       "      <td>5.111780</td>\n",
       "      <td>6.785379</td>\n",
       "      <td>5.567958</td>\n",
       "      <td>NaN</td>\n",
       "      <td>5.455013</td>\n",
       "      <td>5.770349</td>\n",
       "      <td>2.747472</td>\n",
       "      <td>Group1</td>\n",
       "    </tr>\n",
       "  </tbody>\n",
       "</table>\n",
       "<p>5 rows × 201 columns</p>\n",
       "</div>"
      ],
      "text/plain": [
       "  Unnamed: 0     Gene1     Gene2     Gene3     Gene4      Gene5     Gene6  \\\n",
       "0      Cell1  5.992481  8.637750  9.148508  0.000000   9.749526       NaN   \n",
       "1      Cell2  6.705927  8.459997       NaN  0.000000   9.613102  8.837886   \n",
       "2      Cell3  7.630381       NaN       NaN  0.000000   9.486118  8.731500   \n",
       "3      Cell4  7.067631  8.952405  9.636137  2.034341   9.719746  7.529173   \n",
       "4      Cell5  5.732078  8.842180       NaN  2.192864  10.138186  7.676739   \n",
       "\n",
       "      Gene7     Gene8      Gene9  ...   Gene192   Gene193   Gene194   Gene195  \\\n",
       "0  0.000000  4.704148  11.965938  ...  1.172069  2.861306  5.676206  7.064524   \n",
       "1       NaN  4.354085  11.835529  ...  0.000000       NaN       NaN       NaN   \n",
       "2       NaN       NaN  12.026917  ...  0.000000  2.729572       NaN  8.092617   \n",
       "3  0.000000       NaN  12.129077  ...  3.039986  2.623069  5.877711  7.349105   \n",
       "4  0.777724  4.987332  12.140196  ...       NaN       NaN  5.111780  6.785379   \n",
       "\n",
       "    Gene196   Gene197   Gene198   Gene199   Gene200   group  \n",
       "0  5.963797  6.387515  5.404645  5.811143  2.250973  Group1  \n",
       "1  6.281317  6.541257  5.940163  5.120309  1.607604  Group4  \n",
       "2  6.048260  6.878665  5.550450  5.957771  2.729572  Group4  \n",
       "3       NaN  6.471351  6.568682  5.877711  2.846535  Group3  \n",
       "4  5.567958       NaN  5.455013  5.770349  2.747472  Group1  \n",
       "\n",
       "[5 rows x 201 columns]"
      ]
     },
     "execution_count": 3,
     "metadata": {},
     "output_type": "execute_result"
    }
   ],
   "source": [
    "X.head()"
   ]
  },
  {
   "cell_type": "code",
   "execution_count": 4,
   "id": "f330d865",
   "metadata": {},
   "outputs": [
    {
     "data": {
      "text/plain": [
       "(100, 201)"
      ]
     },
     "execution_count": 4,
     "metadata": {},
     "output_type": "execute_result"
    }
   ],
   "source": [
    "X.shape"
   ]
  },
  {
   "cell_type": "code",
   "execution_count": 5,
   "id": "4e0b672c",
   "metadata": {},
   "outputs": [],
   "source": [
    "y = X.group"
   ]
  },
  {
   "cell_type": "code",
   "execution_count": 6,
   "id": "fe68caeb",
   "metadata": {},
   "outputs": [
    {
     "data": {
      "text/plain": [
       "0    Group1\n",
       "1    Group4\n",
       "2    Group4\n",
       "3    Group3\n",
       "4    Group1\n",
       "Name: group, dtype: object"
      ]
     },
     "execution_count": 6,
     "metadata": {},
     "output_type": "execute_result"
    }
   ],
   "source": [
    "y.head()"
   ]
  },
  {
   "cell_type": "code",
   "execution_count": 7,
   "id": "ed63edf8",
   "metadata": {},
   "outputs": [],
   "source": [
    "dummy_y = pd.get_dummies(y)\n",
    "\n",
    "\n",
    "encoder = LabelEncoder()\n",
    "encoder.fit(y)\n",
    "y = encoder.transform(y)\n",
    "\n"
   ]
  },
  {
   "cell_type": "code",
   "execution_count": 8,
   "id": "90fd1923",
   "metadata": {},
   "outputs": [
    {
     "data": {
      "text/html": [
       "<div>\n",
       "<style scoped>\n",
       "    .dataframe tbody tr th:only-of-type {\n",
       "        vertical-align: middle;\n",
       "    }\n",
       "\n",
       "    .dataframe tbody tr th {\n",
       "        vertical-align: top;\n",
       "    }\n",
       "\n",
       "    .dataframe thead th {\n",
       "        text-align: right;\n",
       "    }\n",
       "</style>\n",
       "<table border=\"1\" class=\"dataframe\">\n",
       "  <thead>\n",
       "    <tr style=\"text-align: right;\">\n",
       "      <th></th>\n",
       "      <th>Group1</th>\n",
       "      <th>Group2</th>\n",
       "      <th>Group3</th>\n",
       "      <th>Group4</th>\n",
       "    </tr>\n",
       "  </thead>\n",
       "  <tbody>\n",
       "    <tr>\n",
       "      <th>0</th>\n",
       "      <td>1</td>\n",
       "      <td>0</td>\n",
       "      <td>0</td>\n",
       "      <td>0</td>\n",
       "    </tr>\n",
       "    <tr>\n",
       "      <th>1</th>\n",
       "      <td>0</td>\n",
       "      <td>0</td>\n",
       "      <td>0</td>\n",
       "      <td>1</td>\n",
       "    </tr>\n",
       "    <tr>\n",
       "      <th>2</th>\n",
       "      <td>0</td>\n",
       "      <td>0</td>\n",
       "      <td>0</td>\n",
       "      <td>1</td>\n",
       "    </tr>\n",
       "    <tr>\n",
       "      <th>3</th>\n",
       "      <td>0</td>\n",
       "      <td>0</td>\n",
       "      <td>1</td>\n",
       "      <td>0</td>\n",
       "    </tr>\n",
       "    <tr>\n",
       "      <th>4</th>\n",
       "      <td>1</td>\n",
       "      <td>0</td>\n",
       "      <td>0</td>\n",
       "      <td>0</td>\n",
       "    </tr>\n",
       "    <tr>\n",
       "      <th>...</th>\n",
       "      <td>...</td>\n",
       "      <td>...</td>\n",
       "      <td>...</td>\n",
       "      <td>...</td>\n",
       "    </tr>\n",
       "    <tr>\n",
       "      <th>95</th>\n",
       "      <td>0</td>\n",
       "      <td>0</td>\n",
       "      <td>1</td>\n",
       "      <td>0</td>\n",
       "    </tr>\n",
       "    <tr>\n",
       "      <th>96</th>\n",
       "      <td>0</td>\n",
       "      <td>0</td>\n",
       "      <td>1</td>\n",
       "      <td>0</td>\n",
       "    </tr>\n",
       "    <tr>\n",
       "      <th>97</th>\n",
       "      <td>0</td>\n",
       "      <td>0</td>\n",
       "      <td>0</td>\n",
       "      <td>1</td>\n",
       "    </tr>\n",
       "    <tr>\n",
       "      <th>98</th>\n",
       "      <td>1</td>\n",
       "      <td>0</td>\n",
       "      <td>0</td>\n",
       "      <td>0</td>\n",
       "    </tr>\n",
       "    <tr>\n",
       "      <th>99</th>\n",
       "      <td>0</td>\n",
       "      <td>1</td>\n",
       "      <td>0</td>\n",
       "      <td>0</td>\n",
       "    </tr>\n",
       "  </tbody>\n",
       "</table>\n",
       "<p>100 rows × 4 columns</p>\n",
       "</div>"
      ],
      "text/plain": [
       "    Group1  Group2  Group3  Group4\n",
       "0        1       0       0       0\n",
       "1        0       0       0       1\n",
       "2        0       0       0       1\n",
       "3        0       0       1       0\n",
       "4        1       0       0       0\n",
       "..     ...     ...     ...     ...\n",
       "95       0       0       1       0\n",
       "96       0       0       1       0\n",
       "97       0       0       0       1\n",
       "98       1       0       0       0\n",
       "99       0       1       0       0\n",
       "\n",
       "[100 rows x 4 columns]"
      ]
     },
     "execution_count": 8,
     "metadata": {},
     "output_type": "execute_result"
    }
   ],
   "source": [
    "dummy_y"
   ]
  },
  {
   "cell_type": "code",
   "execution_count": 9,
   "id": "471c2cf6",
   "metadata": {},
   "outputs": [],
   "source": [
    "X = X.iloc[:,1:200]"
   ]
  },
  {
   "cell_type": "code",
   "execution_count": 10,
   "id": "64a6332b",
   "metadata": {},
   "outputs": [
    {
     "data": {
      "text/html": [
       "<div>\n",
       "<style scoped>\n",
       "    .dataframe tbody tr th:only-of-type {\n",
       "        vertical-align: middle;\n",
       "    }\n",
       "\n",
       "    .dataframe tbody tr th {\n",
       "        vertical-align: top;\n",
       "    }\n",
       "\n",
       "    .dataframe thead th {\n",
       "        text-align: right;\n",
       "    }\n",
       "</style>\n",
       "<table border=\"1\" class=\"dataframe\">\n",
       "  <thead>\n",
       "    <tr style=\"text-align: right;\">\n",
       "      <th></th>\n",
       "      <th>Gene1</th>\n",
       "      <th>Gene2</th>\n",
       "      <th>Gene3</th>\n",
       "      <th>Gene4</th>\n",
       "      <th>Gene5</th>\n",
       "      <th>Gene6</th>\n",
       "      <th>Gene7</th>\n",
       "      <th>Gene8</th>\n",
       "      <th>Gene9</th>\n",
       "      <th>Gene10</th>\n",
       "      <th>...</th>\n",
       "      <th>Gene191</th>\n",
       "      <th>Gene192</th>\n",
       "      <th>Gene193</th>\n",
       "      <th>Gene194</th>\n",
       "      <th>Gene195</th>\n",
       "      <th>Gene196</th>\n",
       "      <th>Gene197</th>\n",
       "      <th>Gene198</th>\n",
       "      <th>Gene199</th>\n",
       "      <th>Gene200</th>\n",
       "    </tr>\n",
       "  </thead>\n",
       "  <tbody>\n",
       "    <tr>\n",
       "      <th>0</th>\n",
       "      <td>5.992481</td>\n",
       "      <td>8.637750</td>\n",
       "      <td>9.148508</td>\n",
       "      <td>0.000000</td>\n",
       "      <td>9.749526</td>\n",
       "      <td>NaN</td>\n",
       "      <td>0.000000</td>\n",
       "      <td>4.704148</td>\n",
       "      <td>11.965938</td>\n",
       "      <td>8.347030</td>\n",
       "      <td>...</td>\n",
       "      <td>5.603690</td>\n",
       "      <td>1.172069</td>\n",
       "      <td>2.861306</td>\n",
       "      <td>5.676206</td>\n",
       "      <td>7.064524</td>\n",
       "      <td>5.963797</td>\n",
       "      <td>6.387515</td>\n",
       "      <td>5.404645</td>\n",
       "      <td>5.811143</td>\n",
       "      <td>2.250973</td>\n",
       "    </tr>\n",
       "    <tr>\n",
       "      <th>1</th>\n",
       "      <td>6.705927</td>\n",
       "      <td>8.459997</td>\n",
       "      <td>NaN</td>\n",
       "      <td>0.000000</td>\n",
       "      <td>9.613102</td>\n",
       "      <td>8.837886</td>\n",
       "      <td>NaN</td>\n",
       "      <td>4.354085</td>\n",
       "      <td>11.835529</td>\n",
       "      <td>7.964430</td>\n",
       "      <td>...</td>\n",
       "      <td>NaN</td>\n",
       "      <td>0.000000</td>\n",
       "      <td>NaN</td>\n",
       "      <td>NaN</td>\n",
       "      <td>NaN</td>\n",
       "      <td>6.281317</td>\n",
       "      <td>6.541257</td>\n",
       "      <td>5.940163</td>\n",
       "      <td>5.120309</td>\n",
       "      <td>1.607604</td>\n",
       "    </tr>\n",
       "    <tr>\n",
       "      <th>2</th>\n",
       "      <td>7.630381</td>\n",
       "      <td>NaN</td>\n",
       "      <td>NaN</td>\n",
       "      <td>0.000000</td>\n",
       "      <td>9.486118</td>\n",
       "      <td>8.731500</td>\n",
       "      <td>NaN</td>\n",
       "      <td>NaN</td>\n",
       "      <td>12.026917</td>\n",
       "      <td>8.264788</td>\n",
       "      <td>...</td>\n",
       "      <td>5.599159</td>\n",
       "      <td>0.000000</td>\n",
       "      <td>2.729572</td>\n",
       "      <td>NaN</td>\n",
       "      <td>8.092617</td>\n",
       "      <td>6.048260</td>\n",
       "      <td>6.878665</td>\n",
       "      <td>5.550450</td>\n",
       "      <td>5.957771</td>\n",
       "      <td>2.729572</td>\n",
       "    </tr>\n",
       "    <tr>\n",
       "      <th>3</th>\n",
       "      <td>7.067631</td>\n",
       "      <td>8.952405</td>\n",
       "      <td>9.636137</td>\n",
       "      <td>2.034341</td>\n",
       "      <td>9.719746</td>\n",
       "      <td>7.529173</td>\n",
       "      <td>0.000000</td>\n",
       "      <td>NaN</td>\n",
       "      <td>12.129077</td>\n",
       "      <td>9.857736</td>\n",
       "      <td>...</td>\n",
       "      <td>6.044907</td>\n",
       "      <td>3.039986</td>\n",
       "      <td>2.623069</td>\n",
       "      <td>5.877711</td>\n",
       "      <td>7.349105</td>\n",
       "      <td>NaN</td>\n",
       "      <td>6.471351</td>\n",
       "      <td>6.568682</td>\n",
       "      <td>5.877711</td>\n",
       "      <td>2.846535</td>\n",
       "    </tr>\n",
       "    <tr>\n",
       "      <th>4</th>\n",
       "      <td>5.732078</td>\n",
       "      <td>8.842180</td>\n",
       "      <td>NaN</td>\n",
       "      <td>2.192864</td>\n",
       "      <td>10.138186</td>\n",
       "      <td>7.676739</td>\n",
       "      <td>0.777724</td>\n",
       "      <td>4.987332</td>\n",
       "      <td>12.140196</td>\n",
       "      <td>8.067137</td>\n",
       "      <td>...</td>\n",
       "      <td>5.631711</td>\n",
       "      <td>NaN</td>\n",
       "      <td>NaN</td>\n",
       "      <td>5.111780</td>\n",
       "      <td>6.785379</td>\n",
       "      <td>5.567958</td>\n",
       "      <td>NaN</td>\n",
       "      <td>5.455013</td>\n",
       "      <td>5.770349</td>\n",
       "      <td>2.747472</td>\n",
       "    </tr>\n",
       "  </tbody>\n",
       "</table>\n",
       "<p>5 rows × 199 columns</p>\n",
       "</div>"
      ],
      "text/plain": [
       "      Gene1     Gene2     Gene3     Gene4      Gene5     Gene6     Gene7  \\\n",
       "0  5.992481  8.637750  9.148508  0.000000   9.749526       NaN  0.000000   \n",
       "1  6.705927  8.459997       NaN  0.000000   9.613102  8.837886       NaN   \n",
       "2  7.630381       NaN       NaN  0.000000   9.486118  8.731500       NaN   \n",
       "3  7.067631  8.952405  9.636137  2.034341   9.719746  7.529173  0.000000   \n",
       "4  5.732078  8.842180       NaN  2.192864  10.138186  7.676739  0.777724   \n",
       "\n",
       "      Gene8      Gene9    Gene10  ...   Gene191   Gene192   Gene193   Gene194  \\\n",
       "0  4.704148  11.965938  8.347030  ...  5.603690  1.172069  2.861306  5.676206   \n",
       "1  4.354085  11.835529  7.964430  ...       NaN  0.000000       NaN       NaN   \n",
       "2       NaN  12.026917  8.264788  ...  5.599159  0.000000  2.729572       NaN   \n",
       "3       NaN  12.129077  9.857736  ...  6.044907  3.039986  2.623069  5.877711   \n",
       "4  4.987332  12.140196  8.067137  ...  5.631711       NaN       NaN  5.111780   \n",
       "\n",
       "    Gene195   Gene196   Gene197   Gene198   Gene199   Gene200  \n",
       "0  7.064524  5.963797  6.387515  5.404645  5.811143  2.250973  \n",
       "1       NaN  6.281317  6.541257  5.940163  5.120309  1.607604  \n",
       "2  8.092617  6.048260  6.878665  5.550450  5.957771  2.729572  \n",
       "3  7.349105       NaN  6.471351  6.568682  5.877711  2.846535  \n",
       "4  6.785379  5.567958       NaN  5.455013  5.770349  2.747472  \n",
       "\n",
       "[5 rows x 199 columns]"
      ]
     },
     "execution_count": 10,
     "metadata": {},
     "output_type": "execute_result"
    }
   ],
   "source": [
    "X.head()"
   ]
  },
  {
   "cell_type": "code",
   "execution_count": 11,
   "id": "e4439c35",
   "metadata": {},
   "outputs": [
    {
     "data": {
      "text/plain": [
       "pandas.core.frame.DataFrame"
      ]
     },
     "execution_count": 11,
     "metadata": {},
     "output_type": "execute_result"
    }
   ],
   "source": [
    "type(X)"
   ]
  },
  {
   "cell_type": "code",
   "execution_count": 12,
   "id": "6ec2789a",
   "metadata": {},
   "outputs": [],
   "source": [
    "scaler = StandardScaler()\n",
    "X = scaler.fit_transform(X)"
   ]
  },
  {
   "cell_type": "code",
   "execution_count": 13,
   "id": "e48250b6",
   "metadata": {},
   "outputs": [
    {
     "data": {
      "text/plain": [
       "(100, 199)"
      ]
     },
     "execution_count": 13,
     "metadata": {},
     "output_type": "execute_result"
    }
   ],
   "source": [
    "X.shape"
   ]
  },
  {
   "cell_type": "code",
   "execution_count": 14,
   "id": "b37a1545",
   "metadata": {},
   "outputs": [
    {
     "data": {
      "text/plain": [
       "199"
      ]
     },
     "execution_count": 14,
     "metadata": {},
     "output_type": "execute_result"
    }
   ],
   "source": [
    "lyrs = X.shape[1]\n",
    "lyrs"
   ]
  },
  {
   "cell_type": "code",
   "execution_count": 15,
   "id": "099ac430",
   "metadata": {},
   "outputs": [],
   "source": [
    "x_train , x_test , y_train , y_test =train_test_split(X,\n",
    "                        dummy_y,test_size =0.2, random_state=38)"
   ]
  },
  {
   "cell_type": "code",
   "execution_count": 16,
   "id": "cb82783b",
   "metadata": {},
   "outputs": [
    {
     "data": {
      "text/plain": [
       "(80, 199)"
      ]
     },
     "execution_count": 16,
     "metadata": {},
     "output_type": "execute_result"
    }
   ],
   "source": [
    "x_train.shape"
   ]
  },
  {
   "cell_type": "code",
   "execution_count": 17,
   "id": "f3421923",
   "metadata": {},
   "outputs": [
    {
     "data": {
      "text/plain": [
       "array([[-1.698677  , -0.08650352, -0.0344896 , ..., -1.62587914,\n",
       "         0.03998501,  0.09366341],\n",
       "       [-0.30191298, -0.73504399,         nan, ..., -0.46921174,\n",
       "        -1.08025797, -0.59033875],\n",
       "       [ 1.50795369,         nan,         nan, ..., -1.31095373,\n",
       "         0.27775481,  0.60248885],\n",
       "       ...,\n",
       "       [        nan, -1.09878257,  0.58340863, ...,         nan,\n",
       "        -0.81417569,         nan],\n",
       "       [-0.41719507,  0.68195198, -0.1589088 , ..., -0.11897133,\n",
       "        -0.17606433,  0.89073287],\n",
       "       [ 1.21470949,         nan, -0.72435217, ..., -0.97663199,\n",
       "         0.06242718,  1.80700445]])"
      ]
     },
     "execution_count": 17,
     "metadata": {},
     "output_type": "execute_result"
    }
   ],
   "source": [
    "X"
   ]
  },
  {
   "cell_type": "code",
   "execution_count": 18,
   "id": "ef89fe1e",
   "metadata": {
    "scrolled": false
   },
   "outputs": [
    {
     "data": {
      "text/plain": [
       "array([[ 1.12322895,  0.5999094 , -0.0578475 , ...,  1.19465288,\n",
       "         1.70982064, -1.11438295],\n",
       "       [-0.83957828, -2.23833239, -0.85965895, ..., -1.05662276,\n",
       "                nan,         nan],\n",
       "       [ 0.06043993,  2.02691073,  1.01131382, ...,  1.31239768,\n",
       "         0.88001809,  1.55516322],\n",
       "       ...,\n",
       "       [ 0.82775591, -1.07252772, -1.50230366, ...,         nan,\n",
       "        -0.59501369, -0.51541135],\n",
       "       [ 0.86377549, -0.5906986 , -0.06624092, ..., -1.83338251,\n",
       "        -1.05128337, -0.51182355],\n",
       "       [ 1.13954856,  1.36095286, -1.0257393 , ...,  1.56996979,\n",
       "         1.10145304, -0.25632689]])"
      ]
     },
     "execution_count": 18,
     "metadata": {},
     "output_type": "execute_result"
    }
   ],
   "source": [
    "x_train"
   ]
  },
  {
   "cell_type": "code",
   "execution_count": 19,
   "id": "e9efa3af",
   "metadata": {},
   "outputs": [],
   "source": [
    "# y_true = tf.constant([\n",
    "#     [0.1, 1, np.nan, 0.5],\n",
    "#     [0.4, 0.2, 0.8, 0],\n",
    "#     [np.nan, 1.3, np.nan, 0.2],\n",
    "#     [0.1, 0.1, 0.6, np.nan],\n",
    "# ])\n",
    "\n",
    "# y_pred = tf.constant([\n",
    "#     [0.7, 0.7, 0.1, 0.3],\n",
    "#     [0.6, 0.1, 0.1, 0],\n",
    "#     [0.4, 0.9, 0.9, 0.2],\n",
    "#     [0.1, 0.4, 0.4, 1.2],\n",
    "# ])\n",
    "\n",
    "#loss = na_custom_loss(y_true, y_pred)\n"
   ]
  },
  {
   "cell_type": "code",
   "execution_count": 20,
   "id": "5667ed4c",
   "metadata": {},
   "outputs": [],
   "source": [
    "# def na_custom_loss(y_true, y_pred):\n",
    "#     y_true_mask = tf.where(tf.math.is_nan(y_true), tf.experimental.numpy.nanmean(y_true), y_true)\n",
    "#     return K.categorical_crossentropy(y_pred, y_true_mask)"
   ]
  },
  {
   "cell_type": "code",
   "execution_count": 21,
   "id": "a9ce67b2",
   "metadata": {},
   "outputs": [],
   "source": [
    "# Custom ReLu function which takes NA values\n",
    "def relu_nan(x):\n",
    "#     K.print_tensor(x, 'x relu start = ')\n",
    "    x_true = tf.where(tf.math.is_nan(x), tf.zeros_like(x), x)\n",
    "#     K.print_tensor(x_true, 'x_true relu = ')\n",
    "    return K.relu(x_true, max_value=None)"
   ]
  },
  {
   "cell_type": "code",
   "execution_count": 22,
   "id": "a14e8e7a",
   "metadata": {},
   "outputs": [],
   "source": [
    "# Custom softmax function which takes NA values\n",
    "def soft_nan(x):\n",
    "#     K.print_tensor(x, 'x softmax start = ')\n",
    "    x_true = tf.where(tf.math.is_nan(x), tf.zeros_like(x), x)\n",
    "#     K.print_tensor(x_true, 'x_true softmax = ')\n",
    "    return tf.keras.activations.softmax(x_true)"
   ]
  },
  {
   "cell_type": "code",
   "execution_count": null,
   "id": "ef0f6f8c",
   "metadata": {},
   "outputs": [],
   "source": []
  },
  {
   "cell_type": "code",
   "execution_count": null,
   "id": "91de1711",
   "metadata": {},
   "outputs": [],
   "source": []
  },
  {
   "cell_type": "code",
   "execution_count": null,
   "id": "1252bd61",
   "metadata": {},
   "outputs": [],
   "source": []
  },
  {
   "cell_type": "code",
   "execution_count": 23,
   "id": "20e6ae2c",
   "metadata": {},
   "outputs": [],
   "source": [
    "# def custom_loss(y_true, y_pred):\n",
    "#     K.print_tensor(y_true, 'y_true start = ')\n",
    "#     K.print_tensor(y_pred, 'y_pred start = ')\n",
    "#     y_true = tf.cast(y_true, y_pred.dtype)\n",
    "#     K.print_tensor(y_true, 'y_true cast = ')\n",
    "#     mask = tf.math.logical_not(tf.math.is_nan(y_true))\n",
    "#     y_true = tf.boolean_mask(y_true, mask)\n",
    "#     y_pred = tf.boolean_mask(y_pred, mask)\n",
    "#     K.print_tensor(y_true, 'y_true after = ')    \n",
    "#     K.print_tensor(y_pred, 'y_pred after = ')\n",
    "#     loss = tf.keras.losses.mean_squared_error(y_true, y_pred)\n",
    "#     return loss"
   ]
  },
  {
   "cell_type": "code",
   "execution_count": 24,
   "id": "6a516cb0",
   "metadata": {},
   "outputs": [],
   "source": [
    "def custom_loss(y_true, y_pred):\n",
    "#     K.print_tensor(y_true, 'y_true start = ')\n",
    "#     K.print_tensor(y_pred, 'y_pred start = ')\n",
    "    y_true = tf.cast(y_true, y_pred.dtype)\n",
    "#     K.print_tensor(y_true, 'y_true cast = ')\n",
    "    y_true_mask = tf.where(tf.math.is_nan(y_true), \\\n",
    "                           tf.experimental.numpy.nanmean(y_true), y_true)\n",
    "#     K.print_tensor(y_true, 'y_true after = ')    \n",
    "#     K.print_tensor(y_pred, 'y_pred after = ')\n",
    "#     K.print_tensor(y_true_mask, 'y_true_mask after = ')\n",
    "    loss = tf.keras.losses.categorical_crossentropy(y_true_mask, y_pred)\n",
    "    return loss"
   ]
  },
  {
   "cell_type": "code",
   "execution_count": 25,
   "id": "da6cff4b",
   "metadata": {},
   "outputs": [],
   "source": [
    "# ls = custom_loss(y_true, y_pred)"
   ]
  },
  {
   "cell_type": "code",
   "execution_count": 26,
   "id": "f7f2ce5c",
   "metadata": {},
   "outputs": [],
   "source": [
    "# K.print_tensor(ls)"
   ]
  },
  {
   "cell_type": "code",
   "execution_count": 74,
   "id": "93f51e01",
   "metadata": {},
   "outputs": [],
   "source": [
    "def mask_nan(x):\n",
    "    return tf.where(tf.math.is_nan(x), \\\n",
    "                           tf.experimental.numpy.nanmean(x), x)"
   ]
  },
  {
   "cell_type": "code",
   "execution_count": 75,
   "id": "831e97db",
   "metadata": {},
   "outputs": [],
   "source": [
    "def prt_mdl(model):\n",
    "    inp = model.input                                           # input placeholder\n",
    "    outputs = [layer.output for layer in model.layers]          # all layer outputs\n",
    "    functors = [K.function([inp, K.learning_phase()], [out]) for out in outputs]    # evaluation functions\n",
    "\n",
    "    # Testing\n",
    "#     test = np.random.random(input_shape)[np.newaxis,...]\n",
    "    layer_outs = [func([test, 1.]) for func in functors]\n",
    "    print (layer_outs)"
   ]
  },
  {
   "cell_type": "code",
   "execution_count": 102,
   "id": "30b0030d",
   "metadata": {
    "scrolled": true
   },
   "outputs": [
    {
     "name": "stdout",
     "output_type": "stream",
     "text": [
      "Epoch 1/50\n",
      "3/3 [==============================] - 2s 275ms/step - loss: 0.1019 - val_loss: 0.0054\n",
      "Epoch 2/50\n",
      "3/3 [==============================] - 0s 65ms/step - loss: 7.7460e-06 - val_loss: 9.8760e-04\n",
      "Epoch 3/50\n",
      "3/3 [==============================] - 0s 61ms/step - loss: 3.7172e-07 - val_loss: 1.8001e-04\n",
      "Epoch 4/50\n",
      "3/3 [==============================] - 0s 62ms/step - loss: 1.6336e-08 - val_loss: 3.7100e-05\n",
      "Epoch 5/50\n",
      "3/3 [==============================] - 0s 65ms/step - loss: 2.1974e-09 - val_loss: 1.0048e-05\n",
      "Epoch 6/50\n",
      "3/3 [==============================] - 0s 60ms/step - loss: 1.0045e-09 - val_loss: 3.6674e-06\n",
      "Epoch 7/50\n",
      "3/3 [==============================] - 0s 58ms/step - loss: 4.0782e-10 - val_loss: 1.6422e-06\n",
      "Epoch 8/50\n",
      "3/3 [==============================] - 0s 57ms/step - loss: 2.4766e-10 - val_loss: 8.9294e-07\n",
      "Epoch 9/50\n",
      "3/3 [==============================] - 0s 60ms/step - loss: 1.4140e-10 - val_loss: 5.6197e-07\n",
      "Epoch 10/50\n",
      "3/3 [==============================] - 0s 62ms/step - loss: 8.5321e-11 - val_loss: 3.9371e-07\n",
      "Epoch 11/50\n",
      "3/3 [==============================] - 0s 61ms/step - loss: 6.3322e-11 - val_loss: 2.9981e-07\n",
      "Epoch 12/50\n",
      "3/3 [==============================] - 0s 61ms/step - loss: 4.2711e-11 - val_loss: 2.4357e-07\n",
      "Epoch 13/50\n",
      "3/3 [==============================] - 0s 60ms/step - loss: 3.8706e-11 - val_loss: 2.0800e-07\n",
      "Epoch 14/50\n",
      "3/3 [==============================] - 0s 57ms/step - loss: 3.1051e-11 - val_loss: 1.8456e-07\n",
      "Epoch 15/50\n",
      "3/3 [==============================] - 0s 65ms/step - loss: 2.8496e-11 - val_loss: 1.6860e-07\n",
      "Epoch 16/50\n",
      "3/3 [==============================] - 0s 61ms/step - loss: 2.5940e-11 - val_loss: 1.5749e-07\n",
      "Epoch 17/50\n",
      "3/3 [==============================] - 0s 61ms/step - loss: 2.3751e-11 - val_loss: 1.4961e-07\n",
      "Epoch 18/50\n",
      "3/3 [==============================] - 0s 60ms/step - loss: 2.2761e-11 - val_loss: 1.4395e-07\n",
      "Epoch 19/50\n",
      "3/3 [==============================] - 0s 61ms/step - loss: 2.2418e-11 - val_loss: 1.3985e-07\n",
      "Epoch 20/50\n",
      "3/3 [==============================] - 0s 65ms/step - loss: 2.1787e-11 - val_loss: 1.3685e-07\n",
      "Epoch 21/50\n",
      "3/3 [==============================] - 0s 62ms/step - loss: 2.1326e-11 - val_loss: 1.3466e-07\n",
      "Epoch 22/50\n",
      "3/3 [==============================] - 0s 57ms/step - loss: 2.1002e-11 - val_loss: 1.3303e-07\n",
      "Epoch 23/50\n",
      "3/3 [==============================] - 0s 62ms/step - loss: 2.0397e-11 - val_loss: 1.3183e-07\n",
      "Epoch 24/50\n",
      "3/3 [==============================] - 0s 61ms/step - loss: 2.0674e-11 - val_loss: 1.3094e-07\n",
      "Epoch 25/50\n",
      "3/3 [==============================] - 0s 57ms/step - loss: 2.0500e-11 - val_loss: 1.3028e-07\n",
      "Epoch 26/50\n",
      "3/3 [==============================] - 0s 57ms/step - loss: 2.0165e-11 - val_loss: 1.2979e-07\n",
      "Epoch 27/50\n",
      "3/3 [==============================] - 0s 62ms/step - loss: 1.9963e-11 - val_loss: 1.2943e-07\n",
      "Epoch 28/50\n",
      "3/3 [==============================] - 0s 62ms/step - loss: 2.0228e-11 - val_loss: 1.2915e-07\n",
      "Epoch 29/50\n",
      "3/3 [==============================] - 0s 65ms/step - loss: 1.9874e-11 - val_loss: 1.2896e-07\n",
      "Epoch 30/50\n",
      "3/3 [==============================] - 0s 61ms/step - loss: 2.0164e-11 - val_loss: 1.2881e-07\n",
      "Epoch 31/50\n",
      "3/3 [==============================] - 0s 61ms/step - loss: 2.0294e-11 - val_loss: 1.2869e-07\n",
      "Epoch 32/50\n",
      "3/3 [==============================] - 0s 57ms/step - loss: 1.9740e-11 - val_loss: 1.2861e-07\n",
      "Epoch 33/50\n",
      "3/3 [==============================] - 0s 56ms/step - loss: 1.9790e-11 - val_loss: 1.2854e-07\n",
      "Epoch 34/50\n",
      "3/3 [==============================] - 0s 65ms/step - loss: 2.0055e-11 - val_loss: 1.2850e-07\n",
      "Epoch 35/50\n",
      "3/3 [==============================] - 0s 65ms/step - loss: 2.0249e-11 - val_loss: 1.2846e-07\n",
      "Epoch 36/50\n",
      "3/3 [==============================] - 0s 60ms/step - loss: 1.9995e-11 - val_loss: 1.2843e-07\n",
      "Epoch 37/50\n",
      "3/3 [==============================] - 0s 61ms/step - loss: 1.9732e-11 - val_loss: 1.2841e-07\n",
      "Epoch 38/50\n",
      "3/3 [==============================] - 0s 61ms/step - loss: 1.9720e-11 - val_loss: 1.2839e-07\n",
      "Epoch 39/50\n",
      "3/3 [==============================] - 0s 63ms/step - loss: 1.9734e-11 - val_loss: 1.2838e-07\n",
      "Epoch 40/50\n",
      "3/3 [==============================] - 0s 61ms/step - loss: 1.9711e-11 - val_loss: 1.2836e-07\n",
      "Epoch 41/50\n",
      "3/3 [==============================] - 0s 57ms/step - loss: 1.9729e-11 - val_loss: 1.2835e-07\n",
      "Epoch 42/50\n",
      "3/3 [==============================] - 0s 57ms/step - loss: 1.9719e-11 - val_loss: 1.2835e-07\n",
      "Epoch 43/50\n",
      "3/3 [==============================] - 0s 61ms/step - loss: 1.9715e-11 - val_loss: 1.2834e-07\n",
      "Epoch 44/50\n",
      "3/3 [==============================] - 0s 61ms/step - loss: 2.0136e-11 - val_loss: 1.2833e-07\n",
      "Epoch 45/50\n",
      "3/3 [==============================] - 0s 61ms/step - loss: 1.9821e-11 - val_loss: 1.2832e-07\n",
      "Epoch 46/50\n",
      "3/3 [==============================] - 0s 61ms/step - loss: 1.9990e-11 - val_loss: 1.2831e-07\n",
      "Epoch 47/50\n",
      "3/3 [==============================] - 0s 61ms/step - loss: 2.0301e-11 - val_loss: 1.2831e-07\n",
      "Epoch 48/50\n",
      "3/3 [==============================] - 0s 56ms/step - loss: 1.9720e-11 - val_loss: 1.2830e-07\n",
      "Epoch 49/50\n",
      "3/3 [==============================] - 0s 65ms/step - loss: 1.9723e-11 - val_loss: 1.2829e-07\n",
      "Epoch 50/50\n",
      "3/3 [==============================] - 0s 62ms/step - loss: 1.9733e-11 - val_loss: 1.2829e-07\n"
     ]
    }
   ],
   "source": [
    "model = Sequential()\n",
    "model.add(layers.Lambda(mask_nan))\n",
    "model.add(Dense(units=199, activation='relu')) # add layers to neural network\n",
    "model.add(Dense(units=64, activation='relu'))\n",
    "model.add(Dense(units=4, activation='softmax'))\n",
    "model.compile(loss= 'mse',\n",
    "              optimizer=tf.keras.optimizers.Adam(learning_rate=0.01))\n",
    "        # adjusted learning rate. Trial and error to get value\n",
    "# early_stop = EarlyStopping(monitor='val_loss',\n",
    "#     mode='min',\n",
    "#     verbose=1,\n",
    "#     patience=500)\n",
    "history = model.fit(x=x_train,\n",
    "    y=y_train,\n",
    "    epochs=50,\n",
    "    batch_size = 32,\n",
    "    validation_data=(x_test, y_test),\n",
    "    verbose=1)#,\n",
    "#     callbacks=[early_stop]\n",
    "#         )"
   ]
  },
  {
   "cell_type": "code",
   "execution_count": 103,
   "id": "742b45e4",
   "metadata": {},
   "outputs": [
    {
     "data": {
      "text/plain": [
       "array([[ 1.12322895,  0.5999094 , -0.0578475 , ...,  1.19465288,\n",
       "         1.70982064, -1.11438295],\n",
       "       [-0.83957828, -2.23833239, -0.85965895, ..., -1.05662276,\n",
       "                nan,         nan],\n",
       "       [ 0.06043993,  2.02691073,  1.01131382, ...,  1.31239768,\n",
       "         0.88001809,  1.55516322],\n",
       "       ...,\n",
       "       [ 0.82775591, -1.07252772, -1.50230366, ...,         nan,\n",
       "        -0.59501369, -0.51541135],\n",
       "       [ 0.86377549, -0.5906986 , -0.06624092, ..., -1.83338251,\n",
       "        -1.05128337, -0.51182355],\n",
       "       [ 1.13954856,  1.36095286, -1.0257393 , ...,  1.56996979,\n",
       "         1.10145304, -0.25632689]])"
      ]
     },
     "execution_count": 103,
     "metadata": {},
     "output_type": "execute_result"
    }
   ],
   "source": [
    "x_train"
   ]
  },
  {
   "cell_type": "code",
   "execution_count": 104,
   "id": "16fd1bf2",
   "metadata": {},
   "outputs": [
    {
     "name": "stdout",
     "output_type": "stream",
     "text": [
      "1/1 [==============================] - 0s 243ms/step\n"
     ]
    },
    {
     "data": {
      "text/plain": [
       "array([[1.9693364e-14, 9.9999994e-01, 7.5139325e-13, 5.9042979e-11],\n",
       "       [8.1714502e-16, 5.4086558e-13, 9.9999994e-01, 1.7930210e-12],\n",
       "       [1.2084799e-19, 1.0132780e-16, 9.9999994e-01, 1.0767624e-16],\n",
       "       [9.9999994e-01, 1.1508455e-19, 4.0465142e-11, 5.7149536e-18],\n",
       "       [8.6745875e-20, 1.2899317e-22, 1.3480202e-23, 9.9999994e-01],\n",
       "       [9.9999994e-01, 3.1560456e-20, 3.8742586e-12, 2.0652781e-16],\n",
       "       [4.9215172e-14, 9.9999994e-01, 6.2409879e-15, 4.5844092e-11],\n",
       "       [7.5123262e-11, 9.9999875e-01, 4.6642600e-11, 1.2062482e-06],\n",
       "       [8.9750829e-10, 9.9943292e-01, 4.7184003e-06, 5.6233216e-04],\n",
       "       [7.7454620e-16, 8.1529678e-13, 9.9999994e-01, 1.1016441e-11],\n",
       "       [1.8508998e-17, 4.3804507e-19, 9.9999994e-01, 4.2115959e-18],\n",
       "       [9.9999994e-01, 1.7763419e-19, 4.1576660e-14, 4.0478315e-16],\n",
       "       [2.8984425e-17, 7.8293025e-21, 9.8900987e-23, 9.9999994e-01],\n",
       "       [9.9999994e-01, 2.2212875e-17, 2.2689246e-10, 2.5495667e-17],\n",
       "       [5.0270751e-21, 6.0260355e-22, 6.4218064e-22, 9.9999994e-01],\n",
       "       [1.3734503e-14, 4.8227306e-17, 5.6543248e-17, 9.9999994e-01],\n",
       "       [1.0000000e+00, 3.3685893e-20, 6.9327859e-12, 7.7263833e-20],\n",
       "       [1.2950977e-06, 9.9780554e-01, 5.6250924e-09, 2.1931035e-03],\n",
       "       [2.9736752e-10, 1.0000000e+00, 1.7008724e-11, 1.1157926e-09],\n",
       "       [1.0000000e+00, 1.5772517e-24, 5.1490341e-15, 3.1614908e-21]],\n",
       "      dtype=float32)"
      ]
     },
     "execution_count": 104,
     "metadata": {},
     "output_type": "execute_result"
    }
   ],
   "source": [
    "preds = model.predict(x_test)\n",
    "preds"
   ]
  },
  {
   "cell_type": "code",
   "execution_count": 105,
   "id": "368fbcc6",
   "metadata": {},
   "outputs": [
    {
     "name": "stdout",
     "output_type": "stream",
     "text": [
      "[[0. 1. 0. 0.]\n",
      " [0. 0. 1. 0.]\n",
      " [0. 0. 1. 0.]\n",
      " [1. 0. 0. 0.]\n",
      " [0. 0. 0. 1.]\n",
      " [1. 0. 0. 0.]\n",
      " [0. 1. 0. 0.]\n",
      " [0. 1. 0. 0.]\n",
      " [0. 1. 0. 0.]\n",
      " [0. 0. 1. 0.]\n",
      " [0. 0. 1. 0.]\n",
      " [1. 0. 0. 0.]\n",
      " [0. 0. 0. 1.]\n",
      " [1. 0. 0. 0.]\n",
      " [0. 0. 0. 1.]\n",
      " [0. 0. 0. 1.]\n",
      " [1. 0. 0. 0.]\n",
      " [0. 1. 0. 0.]\n",
      " [0. 1. 0. 0.]\n",
      " [1. 0. 0. 0.]]\n",
      "              precision    recall  f1-score   support\n",
      "\n",
      "           0       1.00      1.00      1.00         6\n",
      "           1       1.00      1.00      1.00         6\n",
      "           2       1.00      1.00      1.00         4\n",
      "           3       1.00      1.00      1.00         4\n",
      "\n",
      "   micro avg       1.00      1.00      1.00        20\n",
      "   macro avg       1.00      1.00      1.00        20\n",
      "weighted avg       1.00      1.00      1.00        20\n",
      " samples avg       1.00      1.00      1.00        20\n",
      "\n"
     ]
    }
   ],
   "source": [
    "preds = np.ndarray.round(preds,0)\n",
    "\n",
    "print(preds)\n",
    "print(classification_report(preds, y_test))"
   ]
  },
  {
   "cell_type": "code",
   "execution_count": 106,
   "id": "f2a29a96",
   "metadata": {},
   "outputs": [
    {
     "data": {
      "image/png": "[encoded data removed]",
      "text/plain": [
       "<Figure size 640x480 with 1 Axes>"
      ]
     },
     "metadata": {},
     "output_type": "display_data"
    }
   ],
   "source": [
    "plt.plot(history.history['loss'])\n",
    "plt.plot(history.history['val_loss'])\n",
    "plt.title('Model loss')\n",
    "plt.ylabel('Loss')\n",
    "plt.xlabel('Epoch')\n",
    "plt.legend(['Train', 'Validation'], loc='upper right')\n",
    "plt.show()"
   ]
  },
  {
   "cell_type": "code",
   "execution_count": 107,
   "id": "8eb75ea6",
   "metadata": {},
   "outputs": [],
   "source": [
    "latent_space = 2"
   ]
  },
  {
   "cell_type": "code",
   "execution_count": 108,
   "id": "1c490277",
   "metadata": {},
   "outputs": [
    {
     "data": {
      "text/plain": [
       "(100, 199)"
      ]
     },
     "execution_count": 108,
     "metadata": {},
     "output_type": "execute_result"
    }
   ],
   "source": [
    "X.shape"
   ]
  },
  {
   "cell_type": "code",
   "execution_count": 109,
   "id": "16746b39",
   "metadata": {},
   "outputs": [],
   "source": [
    "x_decoded = X\n",
    "x_decoded = np.where(np.isnan(x_decoded), np.nanmean(x_decoded, axis=0), x_decoded)"
   ]
  },
  {
   "cell_type": "code",
   "execution_count": null,
   "id": "96e1c1a6",
   "metadata": {},
   "outputs": [],
   "source": []
  },
  {
   "cell_type": "code",
   "execution_count": 133,
   "id": "513bf0df",
   "metadata": {},
   "outputs": [],
   "source": [
    "latent_dim = 2 \n",
    "\n",
    "class Autoencoder(Model):\n",
    "  def __init__(self, latent_dim):\n",
    "    super(Autoencoder, self).__init__()\n",
    "    self.latent_dim = latent_dim   \n",
    "    self.encoder = tf.keras.Sequential([\n",
    "          layers.Lambda(mask_nan),\n",
    "          layers.Dense(latent_dim, activation='relu'),\n",
    "    ])\n",
    "    self.decoder = tf.keras.Sequential([\n",
    "      layers.Dense(lyrs, activation='sigmoid')\n",
    "    ])\n",
    "\n",
    "  def call(self, x):\n",
    "    encoded = self.encoder(x)\n",
    "    decoded = self.decoder(encoded)\n",
    "    return decoded\n",
    "\n",
    "autoencoder = Autoencoder(latent_dim)\n",
    "autoencoder2 = Autoencoder(latent_dim)"
   ]
  },
  {
   "cell_type": "code",
   "execution_count": 134,
   "id": "8063a77b",
   "metadata": {
    "scrolled": true
   },
   "outputs": [
    {
     "name": "stdout",
     "output_type": "stream",
     "text": [
      "Epoch 1/50\n",
      "3/3 [==============================] - 2s 279ms/step - loss: 1.1171 - val_loss: 1.0369\n",
      "Epoch 2/50\n",
      "3/3 [==============================] - 0s 61ms/step - loss: 1.1154 - val_loss: 1.0357\n",
      "Epoch 3/50\n",
      "3/3 [==============================] - 0s 64ms/step - loss: 1.1138 - val_loss: 1.0345\n",
      "Epoch 4/50\n",
      "3/3 [==============================] - 0s 64ms/step - loss: 1.1123 - val_loss: 1.0333\n",
      "Epoch 5/50\n",
      "3/3 [==============================] - 0s 61ms/step - loss: 1.1107 - val_loss: 1.0321\n",
      "Epoch 6/50\n",
      "3/3 [==============================] - 0s 62ms/step - loss: 1.1092 - val_loss: 1.0309\n",
      "Epoch 7/50\n",
      "3/3 [==============================] - 0s 58ms/step - loss: 1.1075 - val_loss: 1.0297\n",
      "Epoch 8/50\n",
      "3/3 [==============================] - 0s 60ms/step - loss: 1.1058 - val_loss: 1.0285\n",
      "Epoch 9/50\n",
      "3/3 [==============================] - 0s 60ms/step - loss: 1.1040 - val_loss: 1.0272\n",
      "Epoch 10/50\n",
      "3/3 [==============================] - 0s 62ms/step - loss: 1.1021 - val_loss: 1.0259\n",
      "Epoch 11/50\n",
      "3/3 [==============================] - 0s 62ms/step - loss: 1.1002 - val_loss: 1.0244\n",
      "Epoch 12/50\n",
      "3/3 [==============================] - 0s 59ms/step - loss: 1.0979 - val_loss: 1.0227\n",
      "Epoch 13/50\n",
      "3/3 [==============================] - 0s 64ms/step - loss: 1.0955 - val_loss: 1.0209\n",
      "Epoch 14/50\n",
      "3/3 [==============================] - 0s 66ms/step - loss: 1.0928 - val_loss: 1.0189\n",
      "Epoch 15/50\n",
      "3/3 [==============================] - 0s 68ms/step - loss: 1.0899 - val_loss: 1.0167\n",
      "Epoch 16/50\n",
      "3/3 [==============================] - 0s 64ms/step - loss: 1.0867 - val_loss: 1.0142\n",
      "Epoch 17/50\n",
      "3/3 [==============================] - 0s 63ms/step - loss: 1.0833 - val_loss: 1.0115\n",
      "Epoch 18/50\n",
      "3/3 [==============================] - 0s 63ms/step - loss: 1.0796 - val_loss: 1.0086\n",
      "Epoch 19/50\n",
      "3/3 [==============================] - 0s 59ms/step - loss: 1.0755 - val_loss: 1.0054\n",
      "Epoch 20/50\n",
      "3/3 [==============================] - 0s 64ms/step - loss: 1.0711 - val_loss: 1.0021\n",
      "Epoch 21/50\n",
      "3/3 [==============================] - 0s 60ms/step - loss: 1.0664 - val_loss: 0.9986\n",
      "Epoch 22/50\n",
      "3/3 [==============================] - 0s 60ms/step - loss: 1.0615 - val_loss: 0.9948\n",
      "Epoch 23/50\n",
      "3/3 [==============================] - 0s 62ms/step - loss: 1.0565 - val_loss: 0.9909\n",
      "Epoch 24/50\n",
      "3/3 [==============================] - 0s 62ms/step - loss: 1.0508 - val_loss: 0.9868\n",
      "Epoch 25/50\n",
      "3/3 [==============================] - 0s 62ms/step - loss: 1.0455 - val_loss: 0.9824\n",
      "Epoch 26/50\n",
      "3/3 [==============================] - 0s 61ms/step - loss: 1.0396 - val_loss: 0.9778\n",
      "Epoch 27/50\n",
      "3/3 [==============================] - 0s 60ms/step - loss: 1.0335 - val_loss: 0.9729\n",
      "Epoch 28/50\n",
      "3/3 [==============================] - 0s 61ms/step - loss: 1.0280 - val_loss: 0.9679\n",
      "Epoch 29/50\n",
      "3/3 [==============================] - 0s 62ms/step - loss: 1.0217 - val_loss: 0.9628\n",
      "Epoch 30/50\n",
      "3/3 [==============================] - 0s 63ms/step - loss: 1.0153 - val_loss: 0.9577\n",
      "Epoch 31/50\n",
      "3/3 [==============================] - 0s 63ms/step - loss: 1.0091 - val_loss: 0.9523\n",
      "Epoch 32/50\n",
      "3/3 [==============================] - 0s 65ms/step - loss: 1.0026 - val_loss: 0.9470\n",
      "Epoch 33/50\n",
      "3/3 [==============================] - 0s 62ms/step - loss: 0.9963 - val_loss: 0.9418\n",
      "Epoch 34/50\n",
      "3/3 [==============================] - 0s 60ms/step - loss: 0.9897 - val_loss: 0.9367\n",
      "Epoch 35/50\n",
      "3/3 [==============================] - 0s 61ms/step - loss: 0.9836 - val_loss: 0.9317\n",
      "Epoch 36/50\n",
      "3/3 [==============================] - 0s 61ms/step - loss: 0.9774 - val_loss: 0.9266\n",
      "Epoch 37/50\n",
      "3/3 [==============================] - 0s 63ms/step - loss: 0.9716 - val_loss: 0.9216\n",
      "Epoch 38/50\n",
      "3/3 [==============================] - 0s 66ms/step - loss: 0.9662 - val_loss: 0.9167\n",
      "Epoch 39/50\n",
      "3/3 [==============================] - 0s 61ms/step - loss: 0.9603 - val_loss: 0.9120\n",
      "Epoch 40/50\n",
      "3/3 [==============================] - 0s 67ms/step - loss: 0.9546 - val_loss: 0.9075\n",
      "Epoch 41/50\n",
      "3/3 [==============================] - 0s 62ms/step - loss: 0.9496 - val_loss: 0.9032\n",
      "Epoch 42/50\n",
      "3/3 [==============================] - 0s 64ms/step - loss: 0.9447 - val_loss: 0.8991\n",
      "Epoch 43/50\n",
      "3/3 [==============================] - 0s 65ms/step - loss: 0.9394 - val_loss: 0.8952\n",
      "Epoch 44/50\n",
      "3/3 [==============================] - 0s 62ms/step - loss: 0.9353 - val_loss: 0.8916\n",
      "Epoch 45/50\n",
      "3/3 [==============================] - 0s 62ms/step - loss: 0.9310 - val_loss: 0.8881\n",
      "Epoch 46/50\n",
      "3/3 [==============================] - 0s 61ms/step - loss: 0.9268 - val_loss: 0.8849\n",
      "Epoch 47/50\n",
      "3/3 [==============================] - 0s 64ms/step - loss: 0.9230 - val_loss: 0.8817\n",
      "Epoch 48/50\n",
      "3/3 [==============================] - 0s 61ms/step - loss: 0.9194 - val_loss: 0.8787\n",
      "Epoch 49/50\n",
      "3/3 [==============================] - 0s 63ms/step - loss: 0.9159 - val_loss: 0.8759\n",
      "Epoch 50/50\n",
      "3/3 [==============================] - 0s 68ms/step - loss: 0.9125 - val_loss: 0.8733\n"
     ]
    },
    {
     "data": {
      "text/plain": [
       "<keras.callbacks.History at 0x1949a33b490>"
      ]
     },
     "execution_count": 134,
     "metadata": {},
     "output_type": "execute_result"
    }
   ],
   "source": [
    "autoencoder.compile(optimizer='adam', loss= 'mse')\n",
    "autoencoder.fit(X, x_decoded,\n",
    "                epochs=50,\n",
    "                shuffle=True,\n",
    "                validation_split = 0.2)"
   ]
  },
  {
   "cell_type": "code",
   "execution_count": 135,
   "id": "1bff8484",
   "metadata": {},
   "outputs": [
    {
     "data": {
      "image/png": "[encoded data removed]",
      "text/plain": [
       "<Figure size 640x480 with 1 Axes>"
      ]
     },
     "metadata": {},
     "output_type": "display_data"
    }
   ],
   "source": [
    "embeddings = autoencoder.encoder(X)\n",
    "plt.scatter(embeddings[:,0], embeddings[:,1], c = y)\n",
    "plt.show()"
   ]
  },
  {
   "cell_type": "code",
   "execution_count": 136,
   "id": "569b11a6",
   "metadata": {
    "scrolled": true
   },
   "outputs": [
    {
     "name": "stdout",
     "output_type": "stream",
     "text": [
      "Epoch 1/50\n",
      "3/3 [==============================] - 2s 277ms/step - loss: 1.1161 - val_loss: 1.0379\n",
      "Epoch 2/50\n",
      "3/3 [==============================] - 0s 61ms/step - loss: 1.1145 - val_loss: 1.0365\n",
      "Epoch 3/50\n",
      "3/3 [==============================] - 0s 65ms/step - loss: 1.1130 - val_loss: 1.0352\n",
      "Epoch 4/50\n",
      "3/3 [==============================] - 0s 62ms/step - loss: 1.1115 - val_loss: 1.0339\n",
      "Epoch 5/50\n",
      "3/3 [==============================] - 0s 62ms/step - loss: 1.1100 - val_loss: 1.0326\n",
      "Epoch 6/50\n",
      "3/3 [==============================] - 0s 62ms/step - loss: 1.1085 - val_loss: 1.0313\n",
      "Epoch 7/50\n",
      "3/3 [==============================] - 0s 62ms/step - loss: 1.1070 - val_loss: 1.0300\n",
      "Epoch 8/50\n",
      "3/3 [==============================] - 0s 63ms/step - loss: 1.1053 - val_loss: 1.0286\n",
      "Epoch 9/50\n",
      "3/3 [==============================] - 0s 63ms/step - loss: 1.1035 - val_loss: 1.0272\n",
      "Epoch 10/50\n",
      "3/3 [==============================] - 0s 68ms/step - loss: 1.1018 - val_loss: 1.0256\n",
      "Epoch 11/50\n",
      "3/3 [==============================] - 0s 64ms/step - loss: 1.0997 - val_loss: 1.0238\n",
      "Epoch 12/50\n",
      "3/3 [==============================] - 0s 65ms/step - loss: 1.0976 - val_loss: 1.0220\n",
      "Epoch 13/50\n",
      "3/3 [==============================] - 0s 61ms/step - loss: 1.0954 - val_loss: 1.0200\n",
      "Epoch 14/50\n",
      "3/3 [==============================] - 0s 65ms/step - loss: 1.0930 - val_loss: 1.0179\n",
      "Epoch 15/50\n",
      "3/3 [==============================] - 0s 61ms/step - loss: 1.0903 - val_loss: 1.0157\n",
      "Epoch 16/50\n",
      "3/3 [==============================] - 0s 65ms/step - loss: 1.0875 - val_loss: 1.0134\n",
      "Epoch 17/50\n",
      "3/3 [==============================] - 0s 61ms/step - loss: 1.0847 - val_loss: 1.0110\n",
      "Epoch 18/50\n",
      "3/3 [==============================] - 0s 60ms/step - loss: 1.0815 - val_loss: 1.0085\n",
      "Epoch 19/50\n",
      "3/3 [==============================] - 0s 59ms/step - loss: 1.0781 - val_loss: 1.0059\n",
      "Epoch 20/50\n",
      "3/3 [==============================] - 0s 63ms/step - loss: 1.0746 - val_loss: 1.0031\n",
      "Epoch 21/50\n",
      "3/3 [==============================] - 0s 60ms/step - loss: 1.0707 - val_loss: 1.0002\n",
      "Epoch 22/50\n",
      "3/3 [==============================] - 0s 61ms/step - loss: 1.0669 - val_loss: 0.9971\n",
      "Epoch 23/50\n",
      "3/3 [==============================] - 0s 62ms/step - loss: 1.0629 - val_loss: 0.9938\n",
      "Epoch 24/50\n",
      "3/3 [==============================] - 0s 61ms/step - loss: 1.0586 - val_loss: 0.9904\n",
      "Epoch 25/50\n",
      "3/3 [==============================] - 0s 61ms/step - loss: 1.0543 - val_loss: 0.9868\n",
      "Epoch 26/50\n",
      "3/3 [==============================] - 0s 62ms/step - loss: 1.0496 - val_loss: 0.9833\n",
      "Epoch 27/50\n",
      "3/3 [==============================] - 0s 70ms/step - loss: 1.0450 - val_loss: 0.9797\n",
      "Epoch 28/50\n",
      "3/3 [==============================] - 0s 62ms/step - loss: 1.0403 - val_loss: 0.9760\n",
      "Epoch 29/50\n",
      "3/3 [==============================] - 0s 62ms/step - loss: 1.0355 - val_loss: 0.9723\n",
      "Epoch 30/50\n",
      "3/3 [==============================] - 0s 64ms/step - loss: 1.0304 - val_loss: 0.9684\n",
      "Epoch 31/50\n",
      "3/3 [==============================] - 0s 65ms/step - loss: 1.0256 - val_loss: 0.9645\n",
      "Epoch 32/50\n",
      "3/3 [==============================] - 0s 65ms/step - loss: 1.0205 - val_loss: 0.9604\n",
      "Epoch 33/50\n",
      "3/3 [==============================] - 0s 64ms/step - loss: 1.0153 - val_loss: 0.9563\n",
      "Epoch 34/50\n",
      "3/3 [==============================] - 0s 62ms/step - loss: 1.0102 - val_loss: 0.9522\n",
      "Epoch 35/50\n",
      "3/3 [==============================] - 0s 64ms/step - loss: 1.0049 - val_loss: 0.9481\n",
      "Epoch 36/50\n",
      "3/3 [==============================] - 0s 67ms/step - loss: 0.9996 - val_loss: 0.9441\n",
      "Epoch 37/50\n",
      "3/3 [==============================] - 0s 61ms/step - loss: 0.9943 - val_loss: 0.9399\n",
      "Epoch 38/50\n",
      "3/3 [==============================] - 0s 62ms/step - loss: 0.9890 - val_loss: 0.9358\n",
      "Epoch 39/50\n",
      "3/3 [==============================] - 0s 57ms/step - loss: 0.9832 - val_loss: 0.9317\n",
      "Epoch 40/50\n",
      "3/3 [==============================] - 0s 63ms/step - loss: 0.9776 - val_loss: 0.9276\n",
      "Epoch 41/50\n",
      "3/3 [==============================] - 0s 62ms/step - loss: 0.9721 - val_loss: 0.9235\n",
      "Epoch 42/50\n",
      "3/3 [==============================] - 0s 61ms/step - loss: 0.9667 - val_loss: 0.9195\n",
      "Epoch 43/50\n",
      "3/3 [==============================] - 0s 63ms/step - loss: 0.9612 - val_loss: 0.9156\n",
      "Epoch 44/50\n",
      "3/3 [==============================] - 0s 66ms/step - loss: 0.9561 - val_loss: 0.9119\n",
      "Epoch 45/50\n",
      "3/3 [==============================] - 0s 65ms/step - loss: 0.9510 - val_loss: 0.9081\n",
      "Epoch 46/50\n",
      "3/3 [==============================] - 0s 65ms/step - loss: 0.9461 - val_loss: 0.9045\n",
      "Epoch 47/50\n",
      "3/3 [==============================] - 0s 58ms/step - loss: 0.9415 - val_loss: 0.9010\n",
      "Epoch 48/50\n",
      "3/3 [==============================] - 0s 62ms/step - loss: 0.9372 - val_loss: 0.8975\n",
      "Epoch 49/50\n",
      "3/3 [==============================] - 0s 60ms/step - loss: 0.9329 - val_loss: 0.8943\n",
      "Epoch 50/50\n",
      "3/3 [==============================] - 0s 61ms/step - loss: 0.9289 - val_loss: 0.8912\n"
     ]
    },
    {
     "data": {
      "text/plain": [
       "<keras.callbacks.History at 0x1949b78d670>"
      ]
     },
     "execution_count": 136,
     "metadata": {},
     "output_type": "execute_result"
    }
   ],
   "source": [
    "autoencoder2.compile(optimizer='adam', loss= 'mse')\n",
    "autoencoder2.fit(x_decoded, x_decoded,\n",
    "                epochs=50,\n",
    "                shuffle=True,\n",
    "                validation_split = 0.2)"
   ]
  },
  {
   "cell_type": "code",
   "execution_count": 137,
   "id": "393a3d9c",
   "metadata": {},
   "outputs": [
    {
     "data": {
      "image/png": "[encoded data removed]",
      "text/plain": [
       "<Figure size 640x480 with 1 Axes>"
      ]
     },
     "metadata": {},
     "output_type": "display_data"
    }
   ],
   "source": [
    "embeddings = autoencoder2.encoder(X)\n",
    "plt.scatter(embeddings[:,0], embeddings[:,1], c = y)\n",
    "plt.show()"
   ]
  },
  {
   "cell_type": "code",
   "execution_count": null,
   "id": "28e19e3b",
   "metadata": {},
   "outputs": [],
   "source": []
  },
  {
   "cell_type": "code",
   "execution_count": null,
   "id": "338221de",
   "metadata": {},
   "outputs": [],
   "source": []
  },
  {
   "cell_type": "code",
   "execution_count": null,
   "id": "62fd31cf",
   "metadata": {},
   "outputs": [],
   "source": []
  }
 ],
 "metadata": {
  "kernelspec": {
   "display_name": "Python 3 (ipykernel)",
   "language": "python",
   "name": "python3"
  },
  "language_info": {
   "codemirror_mode": {
    "name": "ipython",
    "version": 3
   },
   "file_extension": ".py",
   "mimetype": "text/x-python",
   "name": "python",
   "nbconvert_exporter": "python",
   "pygments_lexer": "ipython3",
   "version": "3.9.16"
  }
 },
 "nbformat": 4,
 "nbformat_minor": 5
}
